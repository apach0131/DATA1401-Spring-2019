{
 "cells": [
  {
   "cell_type": "markdown",
   "metadata": {},
   "source": [
    "# Lecture 16\n",
    "\n",
    "Continuing from lecture 15"
   ]
  },
  {
   "cell_type": "code",
   "execution_count": 3,
   "metadata": {},
   "outputs": [],
   "source": [
    "import numpy as np\n",
    "import math\n",
    "\n",
    "# Create some virtual classes\n",
    "class base:\n",
    "    __name=\"\"\n",
    "    \n",
    "    def __init__(self,name):\n",
    "        self.__name=name\n",
    "\n",
    "    def name(self):\n",
    "        return self.__name\n",
    "    \n",
    "\n",
    "class data(base):\n",
    "    def __init__(self,name):\n",
    "        base.__init__(self,name)\n",
    "        \n",
    "class alg(base):\n",
    "    def __init__(self,name):\n",
    "        base.__init__(self,name)"
   ]
  },
  {
   "cell_type": "code",
   "execution_count": 4,
   "metadata": {},
   "outputs": [],
   "source": [
    "class grade(data):\n",
    "    __value=0\n",
    "    __numerical=True\n",
    "    __gradebook_name=str()\n",
    "    __letter_grades=[\"F-\",\"F\",\"F+\",\"D-\",\"D\",\"D+\",\"C-\",\"C\",\"C+\",\"B-\",\"B\",\"B+\",\"A-\",\"A\",\"A+\"]\n",
    "    \n",
    "    def __init__(self,name,numerical=True,value=None):\n",
    "        if value:\n",
    "            if isinstance(value,(int,float)):\n",
    "                self.__numerical=True\n",
    "            elif isinstance(value,str):\n",
    "                self.__numerical=False\n",
    "            self.set(value)\n",
    "        else:            \n",
    "            self.__numerical=numerical\n",
    "        self.__gradebook_name=name\n",
    "        data.__init__(self,name+\" Grade Algorithm\")        \n",
    "\n",
    "    def set(self,value):\n",
    "        if isinstance(value,(int,float)) and self.__numerical:\n",
    "            self.__value=value\n",
    "        elif isinstance(value,str) and not self.__numerical:\n",
    "            if value in self.__letter_grades:\n",
    "                self.__value=value\n",
    "        else:\n",
    "            print self.name()+\" Error: Bad Grade.\"\n",
    "            raise Exception\n",
    "    \n",
    "    def value(self):\n",
    "        return self.__value\n",
    "    \n",
    "    def numerical(self):\n",
    "        return self.__numerical\n",
    "    \n",
    "    def gradebook_name(self):\n",
    "        return self.__gradebook_name\n",
    "    \n",
    "    def __str__(self):\n",
    "        return self.__gradebook_name+\": \"+str(self.__value)\n",
    "\n",
    "class student(data):\n",
    "    __id_number=0\n",
    "    __grades=dict()\n",
    "    \n",
    "    def __init__(self,first_name, last_name,id_number):\n",
    "        self.__id_number=id_number\n",
    "        self.__grades=dict()\n",
    "        data.__init__(self,first_name+\" \"+last_name+\" Student Data\")\n",
    "\n",
    "    def add_grade(self,a_grade,overwrite=False):\n",
    "        if overwrite or not a_grade.gradebook_name() in self.__grades:\n",
    "            self.__grades[a_grade.gradebook_name()]=a_grade\n",
    "        else:\n",
    "            print self.name()+\" Error Adding Grade \"+a_grade.name()+\". Grade already exists.\"\n",
    "            raise Exception\n",
    "\n",
    "    def id_number(self):\n",
    "        return self.__id_number\n",
    "    \n",
    "    def __getitem__(self,key):\n",
    "        return self.__grades[key]\n",
    "    \n",
    "    def print_grades(self):\n",
    "        for grade in self.__grades:\n",
    "            print self.__grades[grade]\n",
    "    \n"
   ]
  },
  {
   "cell_type": "markdown",
   "metadata": {},
   "source": [
    "## Algorithms\n",
    "\n",
    "In the previous lecture, we ended up with three different types of algorithms:\n",
    "\n",
    "* `grade_calcuator` algorithms: Take grade from the student and return another grade. We use this for assigning letter grades and curving.\n",
    "* `statistics_calculator` algorithms: Take a set of grades for all students and return numbers associated with the class. We used these to compute the mean and standard deviation for a class.\n",
    "* `summary_calculator` algorithms: Take many grades from a student and return a another grade. We used these to sum grades of a student.\n",
    "\n",
    "Here are the base classes:"
   ]
  },
  {
   "cell_type": "code",
   "execution_count": 5,
   "metadata": {},
   "outputs": [],
   "source": [
    "class grade_calculator(alg):    \n",
    "    def __init__(self,name):\n",
    "        alg.__init__(self,name)\n",
    "\n",
    "    def apply(self,a_grade):\n",
    "        raise NotImplementedError\n",
    "        # Returns a grade\n",
    "    \n",
    "class statistics_calculator(alg):    \n",
    "    def __init__(self,name):\n",
    "        alg.__init__(self,name)\n",
    "\n",
    "    def apply(self,grades):\n",
    "        raise NotImplementedError\n",
    "        # returns numbers\n",
    "                \n",
    "class summary_calculator(alg):    \n",
    "    def __init__(self,name):\n",
    "        alg.__init__(self,name)\n",
    "\n",
    "    def apply(self,a_student):\n",
    "        raise NotImplementedError\n",
    "        # returns a grade\n",
    "        "
   ]
  },
  {
   "cell_type": "markdown",
   "metadata": {},
   "source": [
    "While this approach works, users will need to be aware of how to use each type of algorithm and it would be difficult to create a system that would automate tasks, like curving a grade, that would require running several algorithms. We may be able to find a more general implementation that can unify all of these types of algorithms. There are several issues to consider:\n",
    "\n",
    "* **Input**: Each of these algorithms take different inputs, either a single grade, all grades of a specific type for all students, or different grades for the same student.\n",
    "* **Output**: Some of these algorithms generate new grades for each student, while others provide compute  over the whole class.\n",
    "* **Information storage**: While we can store grades with students, other information like means and standard deviation have to do with the class and not any individual student. \n",
    "\n",
    "Lets first address the information storage issue. We simply need a mechanism to store information that has to do with a class instead of a student. The gradebook is what holds all of the students in the class, so we just add new data members to keep additional information. The only type of information that we are holding for now are specific exam means and standard deviations. We could choose to create new data objects for such information. Or we could simply stuff the information into a dictionary. The latter is easier and may suffice, so let's try it.\n"
   ]
  },
  {
   "cell_type": "code",
   "execution_count": 6,
   "metadata": {},
   "outputs": [],
   "source": [
    "class grade_book(data):\n",
    "    # New member class to hold arbitrary data associated with the class\n",
    "\n",
    "    __data=dict()\n",
    "    __students=dict()\n",
    "    \n",
    "    def __init__(self,name):\n",
    "        data.__init__(self,name+\" Course Grade Book\")\n",
    "        self.__students=dict()\n",
    "        self.__data=dict()\n",
    "        \n",
    "    # New method to access data\n",
    "    def __getitem__(self,key):\n",
    "        return self.__data[key]\n",
    "            \n",
    "    # New method to add data\n",
    "    def __setitem__(self, key, value):\n",
    "        self.__data[key] = value\n",
    "        \n",
    "    def add_student(self,a_student):\n",
    "        self.__students[a_student.id_number]=a_student\n",
    "        \n",
    "    def assign_grade(self,key,a_grade):\n",
    "        the_student=None\n",
    "        try:\n",
    "            the_student=self.__students[key]\n",
    "        except:\n",
    "            for id in self.__students:\n",
    "                if key == self.__students[id].name():\n",
    "                    the_student=self.__students[id]\n",
    "                    break\n",
    "        if the_student:\n",
    "            the_student.add_grade(a_grade)\n",
    "        else:\n",
    "            print self.name()+\" Error: Did not find student.\"\n",
    "            \n",
    "    def apply_grader(self,a_grader,grade_name):\n",
    "        for k,a_student in self.__students.iteritems():\n",
    "            a_student.add_grade(a_grader.apply(a_student[grade_name]))\n",
    "            \n",
    "    def apply_stats(self,a_stat_comp,grade_name):\n",
    "        grades=list()\n",
    "        for k,a_student in self.__students.iteritems():\n",
    "            grades.append(a_student[grade_name].value())\n",
    "            \n",
    "        return a_stat_comp.apply(grades)\n",
    "        \n",
    "  "
   ]
  },
  {
   "cell_type": "markdown",
   "metadata": {},
   "source": [
    "Let's test:"
   ]
  },
  {
   "cell_type": "code",
   "execution_count": 7,
   "metadata": {},
   "outputs": [
    {
     "name": "stdout",
     "output_type": "stream",
     "text": [
      "100\n"
     ]
    }
   ],
   "source": [
    "a_grade_book=grade_book(\"Test Gradebook\")\n",
    "a_grade_book[\"Example Data\"]=100\n",
    "print a_grade_book[\"Example Data\"]"
   ]
  },
  {
   "cell_type": "markdown",
   "metadata": {},
   "source": [
    "Now lets address the input/output issue. We have several options:\n",
    "\n",
    "1. Keep things the same. We keep 3 different types of algorithms. Note that necessarily needed to create separate apply methods in the `grade_book` class (`apply_grader`, `apply_stats`, ...) for each type of algorithm with a different method name. Here the user has to know what type of algorithm he/she is applying and then use the right apply method.\n",
    "\n",
    "2. Keep the 3 differnt types of algorithms, but create a general apply method to `grade_book` that checks the type of the algorithm and then uses the right apply method.\n",
    "\n",
    "3. Unify the 3 types of algorithms, pass into them the `grade_book` instance and let them decide what to do.\n",
    "\n",
    "Option 2 is a reasonable solution, but let's try option 3 because it provides more flexibility for future algorithms that may take other input/output combinations. \n",
    "\n",
    "First turn our three different `calculator` algorithm base classes into one:"
   ]
  },
  {
   "cell_type": "code",
   "execution_count": 23,
   "metadata": {},
   "outputs": [],
   "source": [
    "class calculator(alg):    \n",
    "    def __init__(self,name):\n",
    "        alg.__init__(self,name)\n",
    "\n",
    "    def apply(self,a_grade_book):\n",
    "        raise NotImplementedError\n"
   ]
  },
  {
   "cell_type": "markdown",
   "metadata": {},
   "source": [
    "Next, lets combine the `apply` methods in the `grade_book` class:"
   ]
  },
  {
   "cell_type": "code",
   "execution_count": 11,
   "metadata": {},
   "outputs": [],
   "source": [
    "class grade_book(data):\n",
    "    # New member class to hold arbitrary data associated with the class\n",
    "\n",
    "    __data=dict()\n",
    "    __students=dict()\n",
    "    \n",
    "    def __init__(self,name):\n",
    "        data.__init__(self,name+\" Course Grade Book\")\n",
    "        self.__students=dict()\n",
    "        self.__data=dict()\n",
    "        \n",
    "    # New method to access data\n",
    "    def __getitem__(self,key):\n",
    "        return self.__data[key]\n",
    "            \n",
    "    # New method to add data\n",
    "    def __setitem__(self, key, value):\n",
    "        self.__data[key] = value\n",
    "        \n",
    "    def add_student(self,a_student):\n",
    "        self.__students[a_student.id_number()]=a_student\n",
    "\n",
    "    # New method to allow iterating over students\n",
    "    def get_students(self):\n",
    "        return self.__students\n",
    "    \n",
    "    def assign_grade(self,key,a_grade):\n",
    "        the_student=None\n",
    "        try:\n",
    "            the_student=self.__students[key]\n",
    "        except:\n",
    "            for id in self.__students:\n",
    "                if key == self.__students[id].name():\n",
    "                    the_student=self.__students[id]\n",
    "                    break\n",
    "        if the_student:\n",
    "            the_student.add_grade(a_grade)\n",
    "        else:\n",
    "            print self.name()+\" Error: Did not find student.\"\n",
    "            \n",
    "    def apply_calculator(self,a_calculator,**kwargs):\n",
    "        a_calculator.apply(self,**kwargs)\n",
    "        \n",
    "    "
   ]
  },
  {
   "cell_type": "markdown",
   "metadata": {},
   "source": [
    "Now we have to move the logic of what each calculator algorithm uses into the algorithm. For example: "
   ]
  },
  {
   "cell_type": "code",
   "execution_count": 12,
   "metadata": {},
   "outputs": [],
   "source": [
    "class uncurved_letter_grade_percent(calculator):\n",
    "    __grades_definition=[ (.97,\"A+\"),\n",
    "                          (.93,\"A\"),\n",
    "                          (.9,\"A-\"),\n",
    "                          (.87,\"B+\"),\n",
    "                          (.83,\"B\"),\n",
    "                          (.8,\"B-\"),\n",
    "                          (.77,\"C+\"),\n",
    "                          (.73,\"C\"),\n",
    "                          (.7,\"C-\"),\n",
    "                          (.67,\"C+\"),\n",
    "                          (.63,\"C\"),\n",
    "                          (.6,\"C-\"),\n",
    "                          (.57,\"F+\"),\n",
    "                          (.53,\"F\"),\n",
    "                          (0.,\"F-\")]\n",
    "    __max_grade=100.\n",
    "    __grade_name=str()\n",
    "    \n",
    "    def __init__(self,grade_name,max_grade=100.):\n",
    "        self.__max_grade=max_grade\n",
    "        self.__grade_name=grade_name\n",
    "        calculator.__init__(self,\n",
    "                                  \"Uncurved Percent Based Grade Calculator \"+self.__grade_name+\" Max=\"+str(self.__max_grade))\n",
    "        \n",
    "    def apply(self,a_grade_book,grade_name=None,**kwargs):\n",
    "        if grade_name:\n",
    "            pass\n",
    "        else:\n",
    "            grade_name=self.__grade_name\n",
    "            \n",
    "  \n",
    "        for k,a_student in a_grade_book.get_students().iteritems():\n",
    "            a_grade=a_student[grade_name]\n",
    "\n",
    "            if not a_grade.numerical():\n",
    "                print self.name()+ \" Error: Did not get a numerical grade as input.\"\n",
    "                raise Exception\n",
    "    \n",
    "            percent=a_grade.value()/self.__max_grade\n",
    "        \n",
    "            for i,v in enumerate(self.__grades_definition):\n",
    "                #print percent, i, v\n",
    "                if percent>=v[0]:\n",
    "                    break\n",
    "                            \n",
    "            a_student.add_grade(grade(grade_name+\" Letter\",value=self.__grades_definition[i][1]))\n",
    "            "
   ]
  },
  {
   "cell_type": "markdown",
   "metadata": {
    "collapsed": true
   },
   "source": [
    "Let's test with our class data:"
   ]
  },
  {
   "cell_type": "code",
   "execution_count": 20,
   "metadata": {},
   "outputs": [],
   "source": [
    "import pandas as pd\n",
    "Data=pd.read_csv(\"Scores.csv\")\n",
    "\n",
    "a_grade_book=grade_book(\"Data 1401\")\n",
    "\n",
    "for student_i in range(Data.shape[0]):\n",
    "    a_student_0=student(\"Student\",str(student_i),student_i)\n",
    "\n",
    "    for k in Data.keys():\n",
    "        a_student_0.add_grade(grade(k,value=Data[k][student_i]))\n",
    "\n",
    "    a_grade_book.add_student(a_student_0)\n",
    "        "
   ]
  },
  {
   "cell_type": "code",
   "execution_count": 21,
   "metadata": {},
   "outputs": [
    {
     "name": "stdout",
     "output_type": "stream",
     "text": [
      "0 l2_2: 10 l2_2 Letter: A+\n",
      "1 l2_2: 10 l2_2 Letter: A+\n",
      "2 l2_2: 10 l2_2 Letter: A+\n",
      "3 l2_2: 10 l2_2 Letter: A+\n",
      "4 l2_2: 10 l2_2 Letter: A+\n",
      "5 l2_2: 10 l2_2 Letter: A+\n",
      "6 l2_2: 10 l2_2 Letter: A+\n",
      "7 l2_2: 10 l2_2 Letter: A+\n",
      "8 l2_2: 0 l2_2 Letter: F-\n",
      "9 l2_2: 10 l2_2 Letter: A+\n",
      "10 l2_2: 10 l2_2 Letter: A+\n",
      "11 l2_2: 10 l2_2 Letter: A+\n",
      "12 l2_2: 10 l2_2 Letter: A+\n",
      "13 l2_2: 10 l2_2 Letter: A+\n",
      "14 l2_2: 10 l2_2 Letter: A+\n",
      "15 l2_2: 0 l2_2 Letter: F-\n"
     ]
    }
   ],
   "source": [
    "a_grade_book.apply_calculator(uncurved_letter_grade_percent(\"l2_2\",max_grade=10))\n",
    "for k,a_student in a_grade_book.get_students().iteritems():\n",
    "    print a_student.id_number(),a_student[\"l2_2\"],a_student[\"l2_2 Letter\"]"
   ]
  },
  {
   "cell_type": "code",
   "execution_count": null,
   "metadata": {},
   "outputs": [],
   "source": [
    "a_grade_book.get_students()"
   ]
  },
  {
   "cell_type": "markdown",
   "metadata": {},
   "source": [
    "## Stats Computation"
   ]
  },
  {
   "cell_type": "code",
   "execution_count": 28,
   "metadata": {},
   "outputs": [],
   "source": [
    "class mean_std_calculator(calculator):\n",
    "    def __init__(self):\n",
    "        calculator.__init__(self,\"Mean and Standard Deviation Calculator\")\n",
    "        \n",
    "    def apply(self,a_grade_book,grade_name,**kwargs):\n",
    "        grades=list()\n",
    "        for k,a_student in a_grade_book.get_students().iteritems():\n",
    "            grades.append(a_student[grade_name].value())\n",
    "        \n",
    "        a_grade_book[grade_name+\" Mean\"] = np.mean(grades)\n",
    "        a_grade_book[grade_name+\" STD\"] = math.sqrt(np.var(grades))\n"
   ]
  },
  {
   "cell_type": "code",
   "execution_count": 30,
   "metadata": {},
   "outputs": [
    {
     "name": "stdout",
     "output_type": "stream",
     "text": [
      "7.78125\n"
     ]
    }
   ],
   "source": [
    "a_grade_book.apply_calculator(mean_std_calculator(),grade_name=\"l3_2\")\n",
    "print a_grade_book[\"l3_2 Mean\"]"
   ]
  },
  {
   "cell_type": "markdown",
   "metadata": {},
   "source": [
    "## Grade Summing"
   ]
  },
  {
   "cell_type": "code",
   "execution_count": null,
   "metadata": {},
   "outputs": [],
   "source": [
    "\n",
    "class grade_summer(summary_calculator):\n",
    "    def __init__(self,prefix,n):\n",
    "        self.__prefix=prefix\n",
    "        self.__n=n\n",
    "        statistics_calculator.__init__(self,\"Sum Grades\")\n",
    "        \n",
    "    def apply(self,a_student):\n",
    "        labels=[prefix+str(x) for x in range(1,n)]\n",
    "        \n",
    "        grade_sum=0.\n",
    "        for label in labels:\n",
    "            grade_sum+=a_student[label]\n",
    "            \n",
    "        a_student.add_grade(grade(prefix+\"sum\",value=grade_sum))"
   ]
  },
  {
   "cell_type": "markdown",
   "metadata": {},
   "source": [
    "## Curved Letter Grade"
   ]
  },
  {
   "cell_type": "code",
   "execution_count": null,
   "metadata": {},
   "outputs": [],
   "source": [
    "class curved_letter_grade(grade_calculator):\n",
    "    __grades_definition=[ (.97,\"A+\"),\n",
    "                          (.93,\"A\"),\n",
    "                          (.9,\"A-\"),\n",
    "                          (.87,\"B+\"),\n",
    "                          (.83,\"B\"),\n",
    "                          (.8,\"B-\"),\n",
    "                          (.77,\"C+\"),\n",
    "                          (.73,\"C\"),\n",
    "                          (.7,\"C-\"),\n",
    "                          (.67,\"C+\"),\n",
    "                          (.63,\"C\"),\n",
    "                          (.6,\"C-\"),\n",
    "                          (.57,\"F+\"),\n",
    "                          (.53,\"F\"),\n",
    "                          (0.,\"F-\")]\n",
    "    __max_grade=100.\n",
    "    __grade_name=str()\n",
    "    \n",
    "    def __init__(self,grade_name,mean,std,max_grade=100.):\n",
    "        self.__max_grade=max_grade\n",
    "        self.__mean=mean\n",
    "        self.__std=std\n",
    "        self.__grade_name=grade_name\n",
    "        grade_calculator.__init__(self,\n",
    "                                  \"Curved Percent Based Grade Calculator \"+self.__grade_name+ \\\n",
    "                                  \" Mean=\"+str(self.__mean)+\\\n",
    "                                  \" STD=\"+str(self.__std)+\\\n",
    "                                  \" Max=\"+str(self.__max_grade))\n",
    "        \n",
    "\n",
    "    def apply(self,a_grade):\n",
    "        if not isinstance(a_grade,grade):\n",
    "            print isinstance(a_grade,grade)\n",
    "            print self.name()+ \" Error: Did not get an proper grade as input.\"\n",
    "            raise Exception\n",
    "        if not a_grade.numerical():\n",
    "            print self.name()+ \" Error: Did not get a numerical grade as input.\"\n",
    "            raise Exception\n",
    "    \n",
    "        # Rescale the grade\n",
    "        percent=a_grade.value()/self.__max_grade\n",
    "        shift_to_zero=percent-(self.__mean/self.__max_grade)\n",
    "        scale_std=0.1*shift_to_zero/(self.__std/self.__max_grade)\n",
    "        scaled_percent=scale_std+0.8\n",
    "        \n",
    "        for i,v in enumerate(self.__grades_definition):\n",
    "            #print percent, i, v\n",
    "            if scaled_percent>=v[0]:\n",
    "                break\n",
    "                            \n",
    "        return grade(self.__grade_name,value=self.__grades_definition[i][1])\n",
    "            "
   ]
  },
  {
   "cell_type": "code",
   "execution_count": null,
   "metadata": {},
   "outputs": [],
   "source": []
  },
  {
   "cell_type": "code",
   "execution_count": null,
   "metadata": {},
   "outputs": [],
   "source": []
  }
 ],
 "metadata": {
  "kernelspec": {
   "display_name": "Python 2",
   "language": "python",
   "name": "python2"
  },
  "language_info": {
   "codemirror_mode": {
    "name": "ipython",
    "version": 2
   },
   "file_extension": ".py",
   "mimetype": "text/x-python",
   "name": "python",
   "nbconvert_exporter": "python",
   "pygments_lexer": "ipython2",
   "version": "2.7.15"
  }
 },
 "nbformat": 4,
 "nbformat_minor": 2
}
