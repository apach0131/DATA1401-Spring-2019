{
 "cells": [
  {
   "cell_type": "code",
   "execution_count": 1,
   "metadata": {},
   "outputs": [],
   "source": [
    "#quesiton 1: Vectorizer\n",
    "import numpy as np\n",
    "import math\n",
    "import matplotlib.pyplot as plt\n",
    "%matplotlib inline"
   ]
  },
  {
   "cell_type": "code",
   "execution_count": null,
   "metadata": {},
   "outputs": [],
   "source": [
    "def hatFunc(x):\n",
    "    y=x.copy()\n",
    "    y[x<0]=0.\n",
    "    index=np.logical_and(0.<=x,x<1.)\n",
    "    y[index]=x[index]\n",
    "    index=np.logical_and(1.<=x,x<2.)\n",
    "    y[index]=2.-x[index]\n",
    "    y[x>=2]=0.\n",
    "    \n",
    "    return y"
   ]
  },
  {
   "cell_type": "code",
   "execution_count": null,
   "metadata": {},
   "outputs": [],
   "source": [
    "x=np.linspace(-2.,3.,100)\n",
    "\n",
    "#plt.plot(x,hatFunc(x))"
   ]
  },
  {
   "cell_type": "code",
   "execution_count": null,
   "metadata": {},
   "outputs": [],
   "source": [
    "#Quesiton 2: Projectile\n",
    "def projectile(data, vi, m, t=0):\n",
    "    yf,p,k=t.copy(),t.copy(),t.copy()\n",
    "    yf=(vi*t)+(-9.8*(t**2))/2\n",
    "    if data==0:\n",
    "        return yf\n",
    "    if data==1:\n",
    "        p=yf*(m)*(9.8)\n",
    "        return p\n",
    "    if data==2:\n",
    "        k=((m*((vi+-9.8*t)**2)/2))\n",
    "        return k"
   ]
  },
  {
   "cell_type": "code",
   "execution_count": null,
   "metadata": {},
   "outputs": [],
   "source": [
    "m = float(raw_input(\"What is the mass: \"))\n",
    "v = float(raw_input(\"What is the velicity: \"))\n",
    "\n",
    "t=np.linspace(0.,(2*v/9.8),10000)\n",
    "#plt.plot(t,projectile(1,v,m,t),'b')\n",
    "#plt.hold('on')\n",
    "#plt.plot(t,projectile(2,v,m,t),'g')\n",
    "#plt.hold('on')\n",
    "#plt.plot(t,(projectile(2,v,m,t)+projectile(1,v,m,t)))\n",
    "\n",
    "#plt.xlabel('t')\n",
    "#plt.ylabel('Energy')\n",
    "#plt.legend(['P' , 'K', 'E=P+K'])"
   ]
  },
  {
   "cell_type": "code",
   "execution_count": null,
   "metadata": {},
   "outputs": [],
   "source": [
    "#Question 3: integrals of functions\n",
    "def midpoint(f,a,b,n):\n",
    "    h = (b - a) / (float(n))\n",
    "    I = np.arange(1,n+1)\n",
    "    out = (h*f(a - (0.5*h) + (I*h))).sum()\n",
    "    return out"
   ]
  },
  {
   "cell_type": "code",
   "execution_count": null,
   "metadata": {},
   "outputs": [],
   "source": [
    "f,a,b,n=np.sin,0,2*np.pi,1000\n",
    "x=np.linspace(a,b,n)\n",
    "midpoint(f,a,b,n)"
   ]
  },
  {
   "cell_type": "code",
   "execution_count": 2,
   "metadata": {},
   "outputs": [],
   "source": [
    "#Question 4: graphing multiple things\n",
    "def weird(x):\n",
    "    yf=x.copy()\n",
    "    yf=x*(12-x)+(np.sin(x*np.pi))\n",
    "    return yf"
   ]
  },
  {
   "cell_type": "code",
   "execution_count": 8,
   "metadata": {},
   "outputs": [
    {
     "data": {
      "text/plain": [
       "<matplotlib.collections.PolyCollection at 0x2ab4166f7350>"
      ]
     },
     "execution_count": 8,
     "metadata": {},
     "output_type": "execute_result"
    },
    {
     "data": {
      "image/png": "[encoded data removed]",
      "text/plain": [
       "<Figure size 432x288 with 1 Axes>"
      ]
     },
     "metadata": {
      "needs_background": "light"
     },
     "output_type": "display_data"
    }
   ],
   "source": [
    "a,b,n=0.,6,5\n",
    "#nn=n*10\n",
    "\n",
    "w=(b-a)/n\n",
    "#bar graph\n",
    "x2=np.linspace(a+w,b,n)\n",
    "plt.bar(x2,weird(x2-w/2),-w,alpha=0.1,edgecolor='b',align='edge')\n",
    "y2=weird(x2-w/2)\n",
    "#actual function\n",
    "x1=np.linspace(a,b,n)\n",
    "plt.plot(x1,weird(x1))\n",
    "\n",
    "plt.fill_between(x2,weird(x2),y2)"
   ]
  },
  {
   "cell_type": "code",
   "execution_count": null,
   "metadata": {},
   "outputs": [],
   "source": []
  },
  {
   "cell_type": "code",
   "execution_count": null,
   "metadata": {},
   "outputs": [],
   "source": []
  }
 ],
 "metadata": {
  "kernelspec": {
   "display_name": "Python 2",
   "language": "python",
   "name": "python2"
  },
  "language_info": {
   "codemirror_mode": {
    "name": "ipython",
    "version": 2
   },
   "file_extension": ".py",
   "mimetype": "text/x-python",
   "name": "python",
   "nbconvert_exporter": "python",
   "pygments_lexer": "ipython2",
   "version": "2.7.15"
  }
 },
 "nbformat": 4,
 "nbformat_minor": 2
}
