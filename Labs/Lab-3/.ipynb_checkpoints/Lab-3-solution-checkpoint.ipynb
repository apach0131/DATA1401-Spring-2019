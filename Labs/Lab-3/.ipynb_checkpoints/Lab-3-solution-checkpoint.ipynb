{
 "cells": [
  {
   "cell_type": "markdown",
   "metadata": {},
   "source": [
    "# Lab 3\n",
    "\n",
    "## Submitting lab solutions\n",
    "\n",
    "At the end of the previous lab, you should have set up a \"Solutions\" directory in your home directory on TACC, with a fork of the class git repository that pull from Dr. Farbin's verison and pushes to your own fork. \n",
    "\n",
    "Open a terminal, navigate to your fork, and use `git remove -v` to verify that things are correctly setup.\n",
    "\n",
    "Your solutions to the lab 2 are either sitting in this fork, or in the first clone of the class repository that you made at the beginning of lab 2. \n",
    "\n",
    "Note that Jupyter tends to auto-save your work. But to make sure, it is a good habit to use the \"Save and Checkpoint\" command from the \"File\" menu whenever you are ending a session.\n",
    "\n",
    "Locate the your lab 2 notebook and copy and rename it into the same directory in your fork. \n",
    "\n",
    "For example:"
   ]
  },
  {
   "cell_type": "code",
   "execution_count": 5,
   "metadata": {
    "collapsed": true
   },
   "outputs": [],
   "source": [
    "#!cp ~/DATA1401-Spring-2019/Labs/Lab-2/Lab-2.ipynb ~/Solutions/DATA1401-Spring-2019/Labs/Lab-2/Lab-2-Solution.ipynb"
   ]
  },
  {
   "cell_type": "markdown",
   "metadata": {},
   "source": [
    "The reason we are renaming the file is due to a complication that you may experience when pulling updates into your fork. If a file was updated after your last pull and modifications, your modifications will likely cause a merge conflict, which can be a headache to resolve. Creating a new file side-steps this problem.\n",
    "\n",
    "Now that you have a new file in your fork, add the file into local repository:"
   ]
  },
  {
   "cell_type": "code",
   "execution_count": 6,
   "metadata": {
    "collapsed": true
   },
   "outputs": [],
   "source": [
    "#!git add ~/Solutions/DATA1401-Spring-2019/Labs/Lab-2/Lab-2-Solution.ipynb"
   ]
  },
  {
   "cell_type": "markdown",
   "metadata": {},
   "source": [
    "You only need to add a file once. Next, commit this file to your local copy of the repository:"
   ]
  },
  {
   "cell_type": "code",
   "execution_count": 7,
   "metadata": {
    "collapsed": true
   },
   "outputs": [],
   "source": [
    "#!git commit -a -m \"My Lab 2 Solutions\""
   ]
  },
  {
   "cell_type": "markdown",
   "metadata": {},
   "source": [
    "You are required to provide a text message when commiting files, and the `-m` option is the nicest way to do it. If you do not supply a message, you will find yourself in a text editor (most likely vi) which is difficult to use and forced to enter a message.\n",
    "\n",
    "You will need to commit your changes every time you wish to submit any changes. So if you keep working or come back to a lab, make sure you commit your changes.\n",
    "\n",
    "Now that you committed your changes, you will need to push these changes to the fork of the package in your github account:"
   ]
  },
  {
   "cell_type": "code",
   "execution_count": 8,
   "metadata": {
    "collapsed": true
   },
   "outputs": [],
   "source": [
    "#!git push"
   ]
  },
  {
   "cell_type": "markdown",
   "metadata": {},
   "source": [
    "You will likely need to supply you git username and password.\n",
    "\n",
    "Your lab is now available for grading. Remember that unless you commit and push your work, it will not be seen.\n",
    "\n",
    "From now on, use this procedure to submit your solutions to labs, including the remainder of this lab. \n",
    "\n",
    "You can work in your Solutions directory if you like. But note that it may be a good practice to use the \"File\" menu to duplicate and remain labs when you first start. Besides letting you avoid having to do the copy later, you will have a copy of the original notebook, in case you delete something and can pull updates, in case of bug fixes."
   ]
  },
  {
   "cell_type": "markdown",
   "metadata": {},
   "source": [
    "## Python Programming\n",
    "\n",
    "In the remainder of this lab you will practice python by solving some simple exercises. \n",
    "\n",
    "*Exercise 1:* Write 2 functions `even(x)` and `odd(x)` that take an integer and returns True if the input is even or odd, otherwise returns False. Use cell below for your solution. Use the subsequent cell to demonstrate that your solution works. Feel free to add additional cell as needed using the \"+\" button on the button bar above. "
   ]
  },
  {
   "cell_type": "code",
   "execution_count": 9,
   "metadata": {
    "collapsed": true
   },
   "outputs": [],
   "source": [
    "# Write you solution here\n",
    "def evennum(num):\n",
    "    if num%2==0:\n",
    "        return True\n",
    "    else:\n",
    "        return False"
   ]
  },
  {
   "cell_type": "code",
   "execution_count": 10,
   "metadata": {},
   "outputs": [
    {
     "name": "stdout",
     "output_type": "stream",
     "text": [
      "False\n"
     ]
    }
   ],
   "source": [
    "# Test your solution here\n",
    "print evennum(5)"
   ]
  },
  {
   "cell_type": "markdown",
   "metadata": {},
   "source": [
    "*Exercise 2:* Write a function that takes a list of numbers as input and returns a list of the subset of elements that are less that 10. Test your solution."
   ]
  },
  {
   "cell_type": "code",
   "execution_count": 11,
   "metadata": {
    "collapsed": true
   },
   "outputs": [],
   "source": [
    "# Write you solution here\n",
    "def numberlist(array):\n",
    "    newarray=list()\n",
    "    for i in range(len(array)):\n",
    "        if array[i]<10:\n",
    "            newarray.append(i)\n",
    "    return newarray"
   ]
  },
  {
   "cell_type": "code",
   "execution_count": 12,
   "metadata": {},
   "outputs": [
    {
     "name": "stdout",
     "output_type": "stream",
     "text": [
      "[0, 1, 2, 3, 4, 5, 6, 7, 8, 9]\n"
     ]
    }
   ],
   "source": [
    "# Test your solution here\n",
    "testarray=list()\n",
    "for i in range(20):\n",
    "    testarray.append(i)\n",
    "print numberlist(testarray)"
   ]
  },
  {
   "cell_type": "markdown",
   "metadata": {},
   "source": [
    "*Exercise 3:* Write a function that takes a number `x_max` as input and returns a function that performs the same task as exercise 2, but for `x_max` instead of 10."
   ]
  },
  {
   "cell_type": "code",
   "execution_count": 13,
   "metadata": {
    "collapsed": true
   },
   "outputs": [],
   "source": [
    "# Write you solution here\n",
    "def maxlist(array,x_max):\n",
    "    newarray=list()\n",
    "    for i in range(len(array)):\n",
    "        if array[i]<x_max:\n",
    "            newarray.append(i)\n",
    "    return newarray"
   ]
  },
  {
   "cell_type": "code",
   "execution_count": 14,
   "metadata": {},
   "outputs": [
    {
     "name": "stdout",
     "output_type": "stream",
     "text": [
      "[0, 1, 2, 3, 4, 5, 6, 7, 8, 9, 10, 11, 12, 13, 14, 15, 16, 17, 18, 19]\n"
     ]
    }
   ],
   "source": [
    "# Test your solution here\n",
    "testarray=list()\n",
    "for i in range(100):\n",
    "    testarray.append(i)\n",
    "print maxlist(testarray,20)"
   ]
  },
  {
   "cell_type": "markdown",
   "metadata": {},
   "source": [
    "*Exercise 4:* Write a function that takes an interger as input and returns a list of all divisors of that number."
   ]
  },
  {
   "cell_type": "code",
   "execution_count": 15,
   "metadata": {
    "collapsed": true
   },
   "outputs": [],
   "source": [
    "# Write you solution here\n",
    "def numdiv(num):\n",
    "    array=list()\n",
    "    for i in range(1,num+1,1):\n",
    "        if num%i==0:\n",
    "            array.append(i)\n",
    "    return array"
   ]
  },
  {
   "cell_type": "code",
   "execution_count": 16,
   "metadata": {},
   "outputs": [
    {
     "name": "stdout",
     "output_type": "stream",
     "text": [
      "[1, 7]\n"
     ]
    }
   ],
   "source": [
    "# Test your solution here\n",
    "print numdiv(7)"
   ]
  },
  {
   "cell_type": "markdown",
   "metadata": {},
   "source": [
    "*Exercise 5:* Write a function that takes 2 lists as input and returns a list that contains only the elements that are common between the lists (without duplicates). Make sure your program works on two lists of different sizes."
   ]
  },
  {
   "cell_type": "code",
   "execution_count": 17,
   "metadata": {
    "collapsed": true
   },
   "outputs": [],
   "source": [
    "# Write you solution here\n",
    "def inlist(num, l):\n",
    "    for i in range(len(l)):\n",
    "        if num!=l[i]:\n",
    "            continue\n",
    "        else:\n",
    "            return True\n",
    "templist=list()\n",
    "final=list()\n",
    "def comlist(l1,l2):\n",
    "    if len(l1)>=len(l2):\n",
    "        for i in range(len(l2)):\n",
    "            for j in range(len(l1)):\n",
    "                if (l2[i]==l1[j] and (not (inlist(l1[j],templist))) ): \n",
    "                    templist.append(l1[j])\n",
    "    else:\n",
    "        for i in range(len(l1)):\n",
    "            for j in range(len(l2)):\n",
    "                if (l1[i]==l2[j] and (not (inlist(l2[j],templist))) ): \n",
    "                    templist.append(l2[j])\n",
    "    return templist\n"
   ]
  },
  {
   "cell_type": "code",
   "execution_count": 18,
   "metadata": {},
   "outputs": [
    {
     "name": "stdout",
     "output_type": "stream",
     "text": [
      "[10, 11, 12, 13, 14, 15]\n"
     ]
    }
   ],
   "source": [
    "# Test your solution here\n",
    "list1=list()\n",
    "list2=list()\n",
    "\n",
    "for i in range(10,16,1):\n",
    "    list1.append(i)\n",
    "\n",
    "for i in range(29,-1,-1):\n",
    "    list2.append(i)\n",
    "\n",
    "print comlist(list1,list2)"
   ]
  },
  {
   "cell_type": "markdown",
   "metadata": {},
   "source": [
    "*Exercise 6:* Write a function that reads takes a string and returns `True` if the string is a palindrome. (A palindrome is a string that reads the same forwards and backwards.)"
   ]
  },
  {
   "cell_type": "code",
   "execution_count": 19,
   "metadata": {
    "collapsed": true
   },
   "outputs": [],
   "source": [
    "# Write you solution here\n",
    "def palindrome(w):\n",
    "    for i in range(len(w)):\n",
    "        if (w[i]==w[len(w)-i-1]):\n",
    "            continue\n",
    "        else:\n",
    "            return False\n",
    "    return True"
   ]
  },
  {
   "cell_type": "code",
   "execution_count": 20,
   "metadata": {},
   "outputs": [
    {
     "name": "stdout",
     "output_type": "stream",
     "text": [
      "True\n"
     ]
    }
   ],
   "source": [
    "# Test your solution here\n",
    "print palindrome('')"
   ]
  },
  {
   "cell_type": "markdown",
   "metadata": {},
   "source": [
    "*Exercise 7:* Write a Rock-Paper-Scissors game function, that takes 2 strings, the inputs of player 1 and player 2, and output 1 or 2 corresponding to which player wins, or 0 if draw.\n",
    "\n",
    "Implement a Rock-Paper-Scissors game by soliciting input from 2 players, testing with this function, and repeating if there is a draw.\n",
    "\n",
    "Remember the rules:\n",
    "\n",
    "* Rock beats scissors\n",
    "* Scissors beats paper\n",
    "* Paper beats rock"
   ]
  },
  {
   "cell_type": "code",
   "execution_count": 21,
   "metadata": {
    "collapsed": true
   },
   "outputs": [],
   "source": [
    "# Write you solution here\n",
    "def asker(P):\n",
    "    move=raw_input(\"Player \"+P+\" input: [R:P:S]\")\n",
    "    type(move)\n",
    "    if move==\"R\":\n",
    "        return 1\n",
    "    elif move==\"P\":\n",
    "        return 2\n",
    "    elif move==\"S\":\n",
    "        return 3\n",
    "def game():\n",
    "    p1 =int()\n",
    "    p2 =int()\n",
    "    win = True\n",
    "    while win:\n",
    "        p1=asker(\"1\")\n",
    "        p2=asker(\"2\")\n",
    "        if p1==p2:\n",
    "            print 0\n",
    "            game()\n",
    "        elif (p1==1 and p2==2) or (p1==2 and p2==3) or (p1==2 and p2==3):\n",
    "            print 2\n",
    "            win=False\n",
    "        elif (p2==1 and p1==2) or (p2==2 and p1==3) or (p2==2 and p1==3):\n",
    "            print 1\n",
    "            win=False"
   ]
  },
  {
   "cell_type": "code",
   "execution_count": 22,
   "metadata": {
    "collapsed": true
   },
   "outputs": [],
   "source": [
    "# Test your solution here\n",
    "#game()"
   ]
  },
  {
   "cell_type": "markdown",
   "metadata": {},
   "source": [
    "*Exercise 8:* Write a function that takes a integer `n` as input and \n",
    "outputs a list of the first `n` Fibonnaci numbers.\n",
    "\n",
    "The Fibonnaci seqence is a sequence of numbers where the next number in the sequence is the sum of the previous two numbers in the sequence. The sequence looks like this: 1, 1, 2, 3, 5, 8, 13, …)"
   ]
  },
  {
   "cell_type": "code",
   "execution_count": 23,
   "metadata": {
    "collapsed": true
   },
   "outputs": [],
   "source": [
    "# Write you solution here\n",
    "def fib(n):\n",
    "    sec=list()\n",
    "    if n==0:\n",
    "        return sec\n",
    "    elif n==1:\n",
    "        sec.append(1)\n",
    "        return sec\n",
    "    elif n==2:\n",
    "        sec.append(1)\n",
    "        sec.append(1)\n",
    "        return sec\n",
    "    else:\n",
    "        sec.append(1)\n",
    "        sec.append(1)\n",
    "        for i in range(n-2):\n",
    "            sec.append(sec[0+i]+sec[1+i])\n",
    "        return sec"
   ]
  },
  {
   "cell_type": "code",
   "execution_count": 24,
   "metadata": {},
   "outputs": [
    {
     "name": "stdout",
     "output_type": "stream",
     "text": [
      "[1, 1, 2, 3, 5, 8, 13, 21, 34, 55]\n"
     ]
    }
   ],
   "source": [
    "# Test your solution here\n",
    "print fib(10)"
   ]
  },
  {
   "cell_type": "markdown",
   "metadata": {},
   "source": [
    "*Exercise 9:* Write a function that takes a string of consisting of several words and returns a string that reverses the order of the words.\n"
   ]
  },
  {
   "cell_type": "code",
   "execution_count": 25,
   "metadata": {
    "collapsed": true
   },
   "outputs": [],
   "source": [
    "# Write you solution here\n",
    "def rev(s):\n",
    "    ts=list()\n",
    "    for i in range(len(s)-1,-1,-1):\n",
    "        ts.append(s[i])\n",
    "    fw=''.join(ts)\n",
    "    return fw"
   ]
  },
  {
   "cell_type": "code",
   "execution_count": 26,
   "metadata": {},
   "outputs": [
    {
     "name": "stdout",
     "output_type": "stream",
     "text": [
      "ytrewq\n"
     ]
    }
   ],
   "source": [
    "# Test your solution here\n",
    "print rev(\"qwerty\")"
   ]
  },
  {
   "cell_type": "markdown",
   "metadata": {},
   "source": [
    "*Exercise 11:* Write a guessing game program that will repeatedly guess a number that the users picks, with the user indicating higher or lower, until it correctly guesses the number."
   ]
  },
  {
   "cell_type": "code",
   "execution_count": 27,
   "metadata": {
    "collapsed": true
   },
   "outputs": [],
   "source": [
    "import math\n",
    "def nN(N,a):\n",
    "    gap=0\n",
    "    nn=N\n",
    "    if N==1 or N==-1:\n",
    "        return -(10*N)\n",
    "    if (N>=0 or N<=0) and a==-1:\n",
    "        nn=N-1\n",
    "    elif (N<=0 or N>=0) and a==1:\n",
    "        nn=N+1\n",
    "        \n",
    "    return nn    \n",
    "def asker(N):\n",
    "    r=raw_input(\"Is \"+str(N)+\" the number? Higher or Lower? [yes:h:l]\")\n",
    "    type(r)\n",
    "    if r==\"yes\":\n",
    "        return None\n",
    "    elif r==\"h\":\n",
    "        return 1\n",
    "    elif r==\"l\":\n",
    "        return -1"
   ]
  },
  {
   "cell_type": "code",
   "execution_count": 28,
   "metadata": {
    "collapsed": true
   },
   "outputs": [],
   "source": [
    "# Write you solution here\n",
    "def guesser():\n",
    "    guess=True\n",
    "    n=20\n",
    "    while guess:\n",
    "        a=asker(n)\n",
    "        \n",
    "        if a==None:\n",
    "            guess=False\n",
    "        elif a==1 or a==-1:\n",
    "            n=nN(n,a)\n",
    "            continue"
   ]
  },
  {
   "cell_type": "code",
   "execution_count": 29,
   "metadata": {},
   "outputs": [],
   "source": [
    "# Test your solution here\n",
    "#guesser()"
   ]
  },
  {
   "cell_type": "markdown",
   "metadata": {},
   "source": [
    "*Exercise 10:* Write a function that takes 2 integers `n` and `m` as input and draws a `n` by `m` game board. For example the following is a 3x3 board:\n",
    "```\n",
    "   --- --- --- \n",
    "  |   |   |   | \n",
    "   --- --- ---  \n",
    "  |   |   |   | \n",
    "   --- --- ---  \n",
    "  |   |   |   | \n",
    "   --- --- --- \n",
    "   ```"
   ]
  },
  {
   "cell_type": "code",
   "execution_count": 30,
   "metadata": {
    "collapsed": true
   },
   "outputs": [],
   "source": [
    "# Write you solution here\n",
    "def matrix(N):\n",
    "    for i in range(N):\n",
    "        print (\" ---\")*N\n",
    "        print (\"|   \")*N+\"|\"\n",
    "    print (\" ---\")*N"
   ]
  },
  {
   "cell_type": "code",
   "execution_count": 31,
   "metadata": {},
   "outputs": [
    {
     "name": "stdout",
     "output_type": "stream",
     "text": [
      " --- --- ---\n",
      "|   |   |   |\n",
      " --- --- ---\n",
      "|   |   |   |\n",
      " --- --- ---\n",
      "|   |   |   |\n",
      " --- --- ---\n"
     ]
    }
   ],
   "source": [
    "# Test your solution here\n",
    "matrix(3)"
   ]
  },
  {
   "cell_type": "markdown",
   "metadata": {},
   "source": [
    "*Exercise 11:* Write a function that takes a `n` by `n` matrix representing a tic-tac-toe game, and return -1, 0, 1, or 2 indicating the game is incomplete, the game is a draw, player 1 has won, or player 2 has one, respectively. Here are some example inputs:"
   ]
  },
  {
   "cell_type": "code",
   "execution_count": 68,
   "metadata": {
    "collapsed": true
   },
   "outputs": [],
   "source": [
    "winner_is_2 = [[2, 2, 0],\n",
    "\t[2, 1, 0],\n",
    "\t[2, 1, 1]]\n",
    "\n",
    "winner_is_1 = [[1, 2, 0],\n",
    "\t[2, 1, 0],\n",
    "\t[2, 1, 1]]\n",
    "\n",
    "winner_is_also_1 = [[0, 1, 0],\n",
    "\t[2, 1, 0],\n",
    "\t[2, 1, 1]]\n",
    "\n",
    "no_winner = [[1, 2, 0],\n",
    "\t[2, 1, 0],\n",
    "\t[2, 1, 2]]\n",
    "\n",
    "also_no_winner = [[1, 2, 0],\n",
    "\t[2, 1, 0],\n",
    "\t[2, 1, 0]]\n",
    "only1= [[1,0,0],[0,1,0],[0,0,1]]"
   ]
  },
  {
   "cell_type": "code",
   "execution_count": 69,
   "metadata": {
    "collapsed": true
   },
   "outputs": [],
   "source": [
    "# Write you solution here\n",
    "def winnerwinnerchikendinner(A):\n",
    "    p1w=diltr(A,1) or dirtl(A,1) or ve(A,1) or ho(A,1)\n",
    "    p2w=diltr(A,2) or dirtl(A,2) or ve(A,2) or ho(A,2)\n",
    "    if(p1w):\n",
    "        return 1 #player 1\n",
    "    elif (p2w):\n",
    "        return 2 #player 2\n",
    "    elif (p1w and p2w): \n",
    "        return 0 #draw\n",
    "    else:\n",
    "        return -1 #not done\n",
    "        \n",
    "        \n",
    "def diltr(r,p):\n",
    "    if (r[0][0]==p and r[1][1]==p and r[2][2]==p):\n",
    "        return True\n",
    "    else:\n",
    "        return False\n",
    "def dirtl(r,p):\n",
    "    if (r[2][0]==p and r[1][1]==p and r[0][2]==p):\n",
    "        return True\n",
    "    else:\n",
    "        return False\n",
    "\n",
    "def ve(r,p):\n",
    "    if ((r[0][0]==p and r[0][1]==p and r[0][2]==p) or\n",
    "        (r[1][0]==p and r[1][1]==p and r[1][2]==p) or\n",
    "        (r[2][0]==p and r[2][1]==p and r[2][2]==p) ):\n",
    "        return True\n",
    "    else:\n",
    "        return False\n",
    "def ho(r,p):\n",
    "    if ((r[0][0]==p and r[1][0]==p and r[2][0]==p) or\n",
    "        (r[0][1]==p and r[1][1]==p and r[2][1]==p) or\n",
    "        (r[0][2]==p and r[1][2]==p and r[2][2]==p) ):\n",
    "        return True\n",
    "    else:\n",
    "        return False"
   ]
  },
  {
   "cell_type": "code",
   "execution_count": 70,
   "metadata": {},
   "outputs": [
    {
     "name": "stdout",
     "output_type": "stream",
     "text": [
      "1\n"
     ]
    }
   ],
   "source": [
    "# Test your solution here\n",
    "print winnerwinnerchikendinner(only1)"
   ]
  },
  {
   "cell_type": "markdown",
   "metadata": {},
   "source": [
    "*Exercise 12:* Modify exercise 10, so that it takes a matrix of the form from exercise 11 and draws a tic-tac-tie board with \"X\"s and \"O\"s.  "
   ]
  },
  {
   "cell_type": "code",
   "execution_count": 71,
   "metadata": {
    "collapsed": true
   },
   "outputs": [],
   "source": [
    "# Write you solution here\n",
    "def drawttt(A):\n",
    "    tA=rm(A)\n",
    "    for i in range(3):\n",
    "        print (\" ---\")*3\n",
    "        print (\"| \"+tA[i][0]+\" | \"+tA[i][1]+\" | \"+tA[i][2]+\" |\")\n",
    "    print (\" ---\")*3\n",
    "    \n",
    "def rm(A):\n",
    "    tempA=A\n",
    "    for i in range(3):\n",
    "        for j in range(3):\n",
    "            if A[i][j]==1:\n",
    "                tempA[i][j]=\"X\"\n",
    "            if A[i][j]==2:\n",
    "                tempA[i][j]=\"O\"\n",
    "            if A[i][j]==0:\n",
    "                tempA[i][j]=\" \"\n",
    "    return tempA"
   ]
  },
  {
   "cell_type": "code",
   "execution_count": 72,
   "metadata": {},
   "outputs": [
    {
     "name": "stdout",
     "output_type": "stream",
     "text": [
      " --- --- ---\n",
      "| O | O |   |\n",
      " --- --- ---\n",
      "| O | X |   |\n",
      " --- --- ---\n",
      "| O | X | X |\n",
      " --- --- ---\n"
     ]
    }
   ],
   "source": [
    "# Test your solution here\n",
    "drawttt(winner_is_2)"
   ]
  },
  {
   "cell_type": "markdown",
   "metadata": {},
   "source": [
    "*Exercise 12:* Use the two previous exercises to implement a full tic-tac-toe game, where 2 players are repeatedly asked for x and y coordinates of where they wish to place a mark, an appropriate board is drawn, and the game status is checked until a player wins or a draw occurs."
   ]
  },
  {
   "cell_type": "code",
   "execution_count": 73,
   "metadata": {},
   "outputs": [],
   "source": [
    "# Write you solution here\n",
    "def TicLeToc():\n",
    "    print \"Lets play some tic le tac le toc!\"\n",
    "    print \"The origin is placed at the top right corner\"\n",
    "    winner=False\n",
    "    board= [[0,0,0],[0,0,0],[0,0,0]]\n",
    "    co=list()\n",
    "    turn=1\n",
    "    \n",
    "    while not winner:\n",
    "        co=ask(turn)\n",
    "        \n",
    "        if turn==1:\n",
    "            board[co[0]][co[1]]=1\n",
    "            turn=2\n",
    "        if turn==2:\n",
    "            board[co[0]][co[1]]=2\n",
    "            turn=1\n",
    "        \n",
    "        drawttt(board)\n",
    "        \n",
    "        \n",
    "        if winnerwinnerchikendinner(board)==-1:\n",
    "            continue\n",
    "        elif winnerwinnerchikendinner(board)==1:\n",
    "            winner=True\n",
    "            print \"The winner is player 1\"\n",
    "            exit()\n",
    "        elif winnerwinnerchikendinner(board)==2:\n",
    "            winner=True\n",
    "            print \"The winner is player 2\"\n",
    "            exit()\n",
    "        \n",
    "            \n",
    "    \n",
    "def ask(player):\n",
    "    coordinates=list()\n",
    "    print \"player \"+str(player)+\" what are the coordinates of your play?\"\n",
    "    xy=input(\"X,Y: \")\n",
    "    type(xy)\n",
    "    print xy[1]\n",
    "    coordinates.append(xy[0])\n",
    "    coordinates.append(xy[1])\n",
    "    return coordinates\n",
    "\n",
    "            \n",
    "    "
   ]
  },
  {
   "cell_type": "code",
   "execution_count": 74,
   "metadata": {},
   "outputs": [
    {
     "name": "stdout",
     "output_type": "stream",
     "text": [
      "Lets play some tic le tac le toc!\n",
      "The origin is placed at the top right corner\n",
      "player 1 what are the coordinates of your play?\n",
      "X,Y: 0,0\n",
      "0\n",
      " --- --- ---\n",
      "| O |   |   |\n",
      " --- --- ---\n",
      "|   |   |   |\n",
      " --- --- ---\n",
      "|   |   |   |\n",
      " --- --- ---\n",
      "player 1 what are the coordinates of your play?\n"
     ]
    },
    {
     "ename": "KeyboardInterrupt",
     "evalue": "",
     "output_type": "error",
     "traceback": [
      "\u001b[0;31m\u001b[0m",
      "\u001b[0;31mKeyboardInterrupt\u001b[0mTraceback (most recent call last)",
      "\u001b[0;32m<ipython-input-74-3fb51c728706>\u001b[0m in \u001b[0;36m<module>\u001b[0;34m()\u001b[0m\n\u001b[1;32m      1\u001b[0m \u001b[0;31m# Test your solution here\u001b[0m\u001b[0;34m\u001b[0m\u001b[0;34m\u001b[0m\u001b[0m\n\u001b[0;32m----> 2\u001b[0;31m \u001b[0mTicLeToc\u001b[0m\u001b[0;34m(\u001b[0m\u001b[0;34m)\u001b[0m\u001b[0;34m\u001b[0m\u001b[0m\n\u001b[0m",
      "\u001b[0;32m<ipython-input-73-eb096c5e4abd>\u001b[0m in \u001b[0;36mTicLeToc\u001b[0;34m()\u001b[0m\n\u001b[1;32m      9\u001b[0m \u001b[0;34m\u001b[0m\u001b[0m\n\u001b[1;32m     10\u001b[0m     \u001b[0;32mwhile\u001b[0m \u001b[0;32mnot\u001b[0m \u001b[0mwinner\u001b[0m\u001b[0;34m:\u001b[0m\u001b[0;34m\u001b[0m\u001b[0m\n\u001b[0;32m---> 11\u001b[0;31m         \u001b[0mco\u001b[0m\u001b[0;34m=\u001b[0m\u001b[0mask\u001b[0m\u001b[0;34m(\u001b[0m\u001b[0mturn\u001b[0m\u001b[0;34m)\u001b[0m\u001b[0;34m\u001b[0m\u001b[0m\n\u001b[0m\u001b[1;32m     12\u001b[0m \u001b[0;34m\u001b[0m\u001b[0m\n\u001b[1;32m     13\u001b[0m         \u001b[0;32mif\u001b[0m \u001b[0mturn\u001b[0m\u001b[0;34m==\u001b[0m\u001b[0;36m1\u001b[0m\u001b[0;34m:\u001b[0m\u001b[0;34m\u001b[0m\u001b[0m\n",
      "\u001b[0;32m<ipython-input-73-eb096c5e4abd>\u001b[0m in \u001b[0;36mask\u001b[0;34m(player)\u001b[0m\n\u001b[1;32m     37\u001b[0m     \u001b[0mcoordinates\u001b[0m\u001b[0;34m=\u001b[0m\u001b[0mlist\u001b[0m\u001b[0;34m(\u001b[0m\u001b[0;34m)\u001b[0m\u001b[0;34m\u001b[0m\u001b[0m\n\u001b[1;32m     38\u001b[0m     \u001b[0;32mprint\u001b[0m \u001b[0;34m\"player \"\u001b[0m\u001b[0;34m+\u001b[0m\u001b[0mstr\u001b[0m\u001b[0;34m(\u001b[0m\u001b[0mplayer\u001b[0m\u001b[0;34m)\u001b[0m\u001b[0;34m+\u001b[0m\u001b[0;34m\" what are the coordinates of your play?\"\u001b[0m\u001b[0;34m\u001b[0m\u001b[0m\n\u001b[0;32m---> 39\u001b[0;31m     \u001b[0mxy\u001b[0m\u001b[0;34m=\u001b[0m\u001b[0minput\u001b[0m\u001b[0;34m(\u001b[0m\u001b[0;34m\"X,Y: \"\u001b[0m\u001b[0;34m)\u001b[0m\u001b[0;34m\u001b[0m\u001b[0m\n\u001b[0m\u001b[1;32m     40\u001b[0m     \u001b[0mtype\u001b[0m\u001b[0;34m(\u001b[0m\u001b[0mxy\u001b[0m\u001b[0;34m)\u001b[0m\u001b[0;34m\u001b[0m\u001b[0m\n\u001b[1;32m     41\u001b[0m     \u001b[0;32mprint\u001b[0m \u001b[0mxy\u001b[0m\u001b[0;34m[\u001b[0m\u001b[0;36m1\u001b[0m\u001b[0;34m]\u001b[0m\u001b[0;34m\u001b[0m\u001b[0m\n",
      "\u001b[0;32m/opt/apps/intel17/python/2.7.13/lib/python2.7/site-packages/ipykernel/ipkernel.py\u001b[0m in \u001b[0;36m<lambda>\u001b[0;34m(prompt)\u001b[0m\n\u001b[1;32m    162\u001b[0m             \u001b[0mself\u001b[0m\u001b[0;34m.\u001b[0m\u001b[0m_sys_eval_input\u001b[0m \u001b[0;34m=\u001b[0m \u001b[0mbuiltin_mod\u001b[0m\u001b[0;34m.\u001b[0m\u001b[0minput\u001b[0m\u001b[0;34m\u001b[0m\u001b[0m\n\u001b[1;32m    163\u001b[0m             \u001b[0mbuiltin_mod\u001b[0m\u001b[0;34m.\u001b[0m\u001b[0mraw_input\u001b[0m \u001b[0;34m=\u001b[0m \u001b[0mself\u001b[0m\u001b[0;34m.\u001b[0m\u001b[0mraw_input\u001b[0m\u001b[0;34m\u001b[0m\u001b[0m\n\u001b[0;32m--> 164\u001b[0;31m             \u001b[0mbuiltin_mod\u001b[0m\u001b[0;34m.\u001b[0m\u001b[0minput\u001b[0m \u001b[0;34m=\u001b[0m \u001b[0;32mlambda\u001b[0m \u001b[0mprompt\u001b[0m\u001b[0;34m=\u001b[0m\u001b[0;34m''\u001b[0m\u001b[0;34m:\u001b[0m \u001b[0meval\u001b[0m\u001b[0;34m(\u001b[0m\u001b[0mself\u001b[0m\u001b[0;34m.\u001b[0m\u001b[0mraw_input\u001b[0m\u001b[0;34m(\u001b[0m\u001b[0mprompt\u001b[0m\u001b[0;34m)\u001b[0m\u001b[0;34m)\u001b[0m\u001b[0;34m\u001b[0m\u001b[0m\n\u001b[0m\u001b[1;32m    165\u001b[0m         \u001b[0mself\u001b[0m\u001b[0;34m.\u001b[0m\u001b[0m_save_getpass\u001b[0m \u001b[0;34m=\u001b[0m \u001b[0mgetpass\u001b[0m\u001b[0;34m.\u001b[0m\u001b[0mgetpass\u001b[0m\u001b[0;34m\u001b[0m\u001b[0m\n\u001b[1;32m    166\u001b[0m         \u001b[0mgetpass\u001b[0m\u001b[0;34m.\u001b[0m\u001b[0mgetpass\u001b[0m \u001b[0;34m=\u001b[0m \u001b[0mself\u001b[0m\u001b[0;34m.\u001b[0m\u001b[0mgetpass\u001b[0m\u001b[0;34m\u001b[0m\u001b[0m\n",
      "\u001b[0;32m/opt/apps/intel17/python/2.7.13/lib/python2.7/site-packages/ipykernel/kernelbase.py\u001b[0m in \u001b[0;36mraw_input\u001b[0;34m(self, prompt)\u001b[0m\n\u001b[1;32m    703\u001b[0m             \u001b[0mself\u001b[0m\u001b[0;34m.\u001b[0m\u001b[0m_parent_ident\u001b[0m\u001b[0;34m,\u001b[0m\u001b[0;34m\u001b[0m\u001b[0m\n\u001b[1;32m    704\u001b[0m             \u001b[0mself\u001b[0m\u001b[0;34m.\u001b[0m\u001b[0m_parent_header\u001b[0m\u001b[0;34m,\u001b[0m\u001b[0;34m\u001b[0m\u001b[0m\n\u001b[0;32m--> 705\u001b[0;31m             \u001b[0mpassword\u001b[0m\u001b[0;34m=\u001b[0m\u001b[0mFalse\u001b[0m\u001b[0;34m,\u001b[0m\u001b[0;34m\u001b[0m\u001b[0m\n\u001b[0m\u001b[1;32m    706\u001b[0m         )\n\u001b[1;32m    707\u001b[0m \u001b[0;34m\u001b[0m\u001b[0m\n",
      "\u001b[0;32m/opt/apps/intel17/python/2.7.13/lib/python2.7/site-packages/ipykernel/kernelbase.py\u001b[0m in \u001b[0;36m_input_request\u001b[0;34m(self, prompt, ident, parent, password)\u001b[0m\n\u001b[1;32m    733\u001b[0m             \u001b[0;32mexcept\u001b[0m \u001b[0mKeyboardInterrupt\u001b[0m\u001b[0;34m:\u001b[0m\u001b[0;34m\u001b[0m\u001b[0m\n\u001b[1;32m    734\u001b[0m                 \u001b[0;31m# re-raise KeyboardInterrupt, to truncate traceback\u001b[0m\u001b[0;34m\u001b[0m\u001b[0;34m\u001b[0m\u001b[0m\n\u001b[0;32m--> 735\u001b[0;31m                 \u001b[0;32mraise\u001b[0m \u001b[0mKeyboardInterrupt\u001b[0m\u001b[0;34m\u001b[0m\u001b[0m\n\u001b[0m\u001b[1;32m    736\u001b[0m             \u001b[0;32melse\u001b[0m\u001b[0;34m:\u001b[0m\u001b[0;34m\u001b[0m\u001b[0m\n\u001b[1;32m    737\u001b[0m                 \u001b[0;32mbreak\u001b[0m\u001b[0;34m\u001b[0m\u001b[0m\n",
      "\u001b[0;31mKeyboardInterrupt\u001b[0m: "
     ]
    }
   ],
   "source": [
    "# Test your solution here\n",
    "TicLeToc()"
   ]
  },
  {
   "cell_type": "code",
   "execution_count": null,
   "metadata": {
    "collapsed": true
   },
   "outputs": [],
   "source": []
  }
 ],
 "metadata": {
  "kernelspec": {
   "display_name": "Python 2",
   "language": "python",
   "name": "python2"
  },
  "language_info": {
   "codemirror_mode": {
    "name": "ipython",
    "version": 2
   },
   "file_extension": ".py",
   "mimetype": "text/x-python",
   "name": "python",
   "nbconvert_exporter": "python",
   "pygments_lexer": "ipython2",
   "version": "2.7.13"
  }
 },
 "nbformat": 4,
 "nbformat_minor": 2
}
