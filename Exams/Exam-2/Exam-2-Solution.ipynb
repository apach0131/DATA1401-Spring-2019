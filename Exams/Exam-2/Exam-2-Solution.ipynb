{
 "cells": [
  {
   "cell_type": "markdown",
   "metadata": {},
   "source": [
    "# Exam 2\n",
    "\n",
    "We are going to keep working on the grade book system we have been building in class. The version of the grade book presented in lecture 17 has been copied into `gradebook.py`, so we can simply load it using:"
   ]
  },
  {
   "cell_type": "code",
   "execution_count": 1,
   "metadata": {},
   "outputs": [],
   "source": [
    "from gradebook import *"
   ]
  },
  {
   "cell_type": "markdown",
   "metadata": {},
   "source": [
    "Recall that we can build a grade book from a CSV file with the following example, which now has been wrapped up into a function."
   ]
  },
  {
   "cell_type": "code",
   "execution_count": 2,
   "metadata": {},
   "outputs": [],
   "source": [
    "import pandas as pd\n",
    "\n",
    "def load_class(filename):\n",
    "    class_data=pd.read_csv(filename)\n",
    "\n",
    "    a_grade_book=grade_book(\"Data 1401\")\n",
    "\n",
    "    for student_i in range(class_data.shape[0]):\n",
    "        a_student_0=student(\"Student\",str(student_i),student_i)\n",
    "\n",
    "        for k in class_data.keys():\n",
    "            a_student_0.add_grade(grade(k,value=class_data[k][student_i]))\n",
    "\n",
    "        a_grade_book.add_student(a_student_0)\n",
    "        \n",
    "    return a_grade_book\n",
    "\n",
    "my_grade_book=load_class(\"Data1401-Grades.csv\")"
   ]
  },
  {
   "cell_type": "markdown",
   "metadata": {},
   "source": [
    "You may use all of the classes from this version of the grade book for the exam.\n",
    "\n",
    "## CSV Reader Revisited\n",
    "\n",
    "Recall the CSV reader we wrote in class:"
   ]
  },
  {
   "cell_type": "code",
   "execution_count": 3,
   "metadata": {},
   "outputs": [],
   "source": [
    "def csv_reader_0(filename):\n",
    "    file_obj = open(filename,\"r\")\n",
    "\n",
    "    data=list()\n",
    "\n",
    "    first = True\n",
    "    \n",
    "    for line in file_obj:\n",
    "        line=line.strip(\"\\r\\n\")\n",
    "        if first:\n",
    "            first=False\n",
    "            keys = line.split(\",\")\n",
    "        else:\n",
    "            values=map(float,line.split(\",\"))\n",
    "            this_line=dict()\n",
    "            \n",
    "            for k,v in zip(keys,values):\n",
    "                this_line[k]=v\n",
    "\n",
    "            data.append(this_line)\n",
    "            \n",
    "    file_obj.close()\n",
    "    \n",
    "    return data\n",
    "\n",
    "# Test with: \n",
    "# loaded_data=csv_reader_0(\"Data1401-Grades.csv\")"
   ]
  },
  {
   "cell_type": "markdown",
   "metadata": {},
   "source": [
    "*Question 1:* Convert the load function below to work with this data structure. This should be trivial since the data structure created by `csv_reader_0` should present a similar interface to pandas' `dataframe`."
   ]
  },
  {
   "cell_type": "code",
   "execution_count": 4,
   "metadata": {},
   "outputs": [],
   "source": [
    "# Convert this function\n",
    "\n",
    "def load_class_0(filename):\n",
    "    class_data=csv_reader_0(filename)\n",
    "\n",
    "    a_grade_book=grade_book(\"Data 1401\")\n",
    "\n",
    "    for student_i in class_data:\n",
    "        a_student_0=student(\"Student\", str(student_i), str(student_i))\n",
    "\n",
    "        for k in student_i.keys():\n",
    "            a_student_0.add_grade(grade(k,value=student_i[k]))\n",
    "\n",
    "        a_grade_book.add_student(a_student_0)\n",
    "        \n",
    "    return a_grade_book\n",
    "\n",
    "# Test with:\n",
    "my_grade_book_0=load_class_0(\"Data1401-Grades.csv\")"
   ]
  },
  {
   "cell_type": "markdown",
   "metadata": {},
   "source": [
    "*Question 1:* Start with the `csv_reader` function above which presently returns the data it loads as a list of dictionaries, where each element of the list is corresponds to a row of data and the dictionaries are keyed by the column name. For example `data[5][\"l3_5\"]` corresponds to the 6th student's grade on lab 3 question 5. Convert it to instead output a list of lists (i.e. a 2-D array or matrix) and a dictionary, where each element of the \"matrix\" corresponds to a a specific grade for a specific student and the dictionary maps the name of the column to the column index. For example `data[5][column_names[\"l1_5\"]]` would correspond to the 6th student's grade on lab 3 question 5. Next, convert the `load_class` function."
   ]
  },
  {
   "cell_type": "code",
   "execution_count": 7,
   "metadata": {},
   "outputs": [],
   "source": [
    "# Convert this function\n",
    "def csv_reader_1(filename):\n",
    "    file_obj = open(filename,\"r\")\n",
    "\n",
    "    data = list()\n",
    "    column_names = dict()\n",
    "\n",
    "    first = True\n",
    "    \n",
    "    for line in file_obj:\n",
    "        line=line.strip(\"\\r\\n\")\n",
    "        if first:\n",
    "            first = False\n",
    "            keys = line.split(\",\")\n",
    "            column_names = {keys[x]: x for x in range(len(keys))}\n",
    "        else:\n",
    "            values=map(float,line.split(\",\"))\n",
    "            data.append(values)\n",
    "            \n",
    "    file_obj.close()\n",
    "    \n",
    "    return data, column_names\n",
    "\n",
    "# Test with: \n",
    "# data, column_names = csv_reader_1(\"Data1401-Grades.csv\")\n",
    "# print data[5][column_names[\"l4_9\"]]"
   ]
  },
  {
   "cell_type": "code",
   "execution_count": 8,
   "metadata": {},
   "outputs": [],
   "source": [
    "# Convert this function\n",
    "\n",
    "def load_class_1(filename):\n",
    "    class_data, column_names = csv_reader_1(filename)\n",
    "\n",
    "    a_grade_book=grade_book(\"Data 1401\")\n",
    "\n",
    "    for row in range(len(class_data)):\n",
    "        a_student_0=student(\"Student\",str(row), row)\n",
    "\n",
    "        for k, v in column_names.iteritems():\n",
    "            a_student_0.add_grade(grade(k,value=class_data[row][v]))\n",
    "\n",
    "        a_grade_book.add_student(a_student_0)\n",
    "        \n",
    "    return a_grade_book\n",
    "\n",
    "# Test with:\n",
    "# my_grade_book_1=load_class_1(\"Data1401-Grades.csv\")"
   ]
  },
  {
   "cell_type": "markdown",
   "metadata": {},
   "source": [
    "*Question 2:* Now convert the function to output a dictionary of lists, where each element of the dictionary corresponds to a column of data and the lists contain the data in that column. For example `data[\"l3_5\"][5]` would correspond to the 6th student's grade on lab 3 question 5. Next, convert the `load_class` function.\n"
   ]
  },
  {
   "cell_type": "code",
   "execution_count": 9,
   "metadata": {
    "scrolled": false
   },
   "outputs": [],
   "source": [
    "# Convert this function\n",
    "def csv_reader_2(filename):\n",
    "    file_obj = open(filename,\"r\")\n",
    "\n",
    "    data = dict()\n",
    "    mat = list()\n",
    "\n",
    "    first = True\n",
    "    \n",
    "    for line in file_obj:\n",
    "        line=line.strip(\"\\r\\n\")\n",
    "        if first:\n",
    "            first=False\n",
    "            keys = line.split(\",\")\n",
    "        else:\n",
    "            values=map(float,line.split(\",\"))\n",
    "            mat.append(values)\n",
    "            \n",
    "    file_obj.close()\n",
    "    \n",
    "    for x in range(len(keys)):\n",
    "        data[keys[x]] = [y[x] for y in mat]\n",
    "    \n",
    "    return data\n",
    "\n",
    "# Test with: \n",
    "# loaded_data_2=csv_reader_2(\"Data1401-Grades.csv\")"
   ]
  },
  {
   "cell_type": "code",
   "execution_count": 10,
   "metadata": {},
   "outputs": [],
   "source": [
    "# Convert this function\n",
    "\n",
    "def load_class_2(filename):\n",
    "    class_data=csv_reader_2(filename)\n",
    "\n",
    "    a_grade_book=grade_book(\"Data 1401\")\n",
    "\n",
    "    for x in range(len(class_data.values()[0])):\n",
    "        a_student_0=student(\"Student\",str(x), x)\n",
    "        \n",
    "        for k, v in class_data.iteritems():\n",
    "            a_student_0.add_grade(grade(k,value=v[x]))\n",
    "\n",
    "        a_grade_book.add_student(a_student_0)\n",
    "        \n",
    "    return a_grade_book\n",
    "\n",
    "# Test with:\n",
    "# my_grade_book_2=load_class_2(\"Data1401-Grades.csv\")"
   ]
  },
  {
   "cell_type": "markdown",
   "metadata": {
    "collapsed": true
   },
   "source": [
    "*Question 3:* Now convert the function so that the fields that it reads do not have to be numbers. When reading parsing a field, check it can be converted to a float, if not, then store it as a string. Note the different test file for this function, which now had names added as a column. Modify the `load_class` function to use this reader, using the name read from the file.\n"
   ]
  },
  {
   "cell_type": "code",
   "execution_count": 11,
   "metadata": {},
   "outputs": [],
   "source": [
    "# Convert this function\n",
    "def csv_reader(filename):\n",
    "    file_obj = open(filename,\"r\")\n",
    "\n",
    "    data=list()\n",
    "\n",
    "    first = True\n",
    "    \n",
    "    for line in file_obj:\n",
    "        line=line.strip(\"\\r\\n\")\n",
    "        if first:\n",
    "            first=False\n",
    "            keys = line.split(\",\")\n",
    "        else:\n",
    "            values = line.split(\",\")\n",
    "            for x in range(len(values)):\n",
    "                try:\n",
    "                    values[x] = float(values[x])\n",
    "                except:\n",
    "                    values[x] = str(values[x])\n",
    "                    \n",
    "            this_line = dict()\n",
    "            \n",
    "            for k,v in zip(keys,values):\n",
    "                this_line[k]=v\n",
    "\n",
    "            data.append(this_line)\n",
    "            \n",
    "    file_obj.close()\n",
    "    \n",
    "    return data\n",
    "\n",
    "# Test with: \n",
    "# loaded_data=csv_reader(\"Data1401-Grades-Strings.csv\")"
   ]
  },
  {
   "cell_type": "code",
   "execution_count": 12,
   "metadata": {},
   "outputs": [],
   "source": [
    "# Convert this function\n",
    "\n",
    "def load_class(filename):\n",
    "    class_data=csv_reader(filename)\n",
    "\n",
    "    a_grade_book=grade_book(\"Data 1401\")\n",
    "\n",
    "    for student_i in class_data:\n",
    "        a_student_0=student(\"Student\", student_i[\"first name\"], student_i[\" last name\"])\n",
    "\n",
    "        for k in student_i.keys():\n",
    "            a_student_0.add_grade(grade(k,value=student_i[k]))\n",
    "\n",
    "        a_grade_book.add_student(a_student_0)\n",
    "        \n",
    "    return a_grade_book\n",
    "\n",
    "# Test with:\n",
    "# my_grade_book=load_class(\"Data1401-Grades-Strings.csv\")"
   ]
  },
  {
   "cell_type": "markdown",
   "metadata": {},
   "source": [
    "## Chaining Algorithms\n",
    "\n",
    "The following example curves the exam 1 grades:\n"
   ]
  },
  {
   "cell_type": "code",
   "execution_count": 13,
   "metadata": {},
   "outputs": [],
   "source": [
    "my_grade_book.apply_calculator(grade_summer(\"e1_\"),overwrite=True)\n",
    "my_grade_book.apply_calculator(mean_std_calculator(\"e1_sum\",60))\n",
    "my_grade_book.apply_calculator(curved_letter_grade(\"e1_sum\",my_grade_book[\"e1_sum Mean\"],my_grade_book[\"e1_sum STD\"]),overwrite=True)"
   ]
  },
  {
   "cell_type": "code",
   "execution_count": 14,
   "metadata": {},
   "outputs": [
    {
     "name": "stdout",
     "output_type": "stream",
     "text": [
      "Student 0 Student Data e1_sum: 35.0 e1_sum Letter: F-\n",
      "Student 1 Student Data e1_sum: 0 e1_sum Letter: F-\n",
      "Student 2 Student Data e1_sum: 20.0 e1_sum Letter: F-\n",
      "Student 3 Student Data e1_sum: 115.0 e1_sum Letter: B\n",
      "Student 4 Student Data e1_sum: 24.0 e1_sum Letter: F-\n",
      "Student 5 Student Data e1_sum: 95.0 e1_sum Letter: C-\n",
      "Student 6 Student Data e1_sum: 37.0 e1_sum Letter: F-\n",
      "Student 7 Student Data e1_sum: 77.0 e1_sum Letter: F+\n",
      "Student 8 Student Data e1_sum: 103.0 e1_sum Letter: C\n",
      "Student 9 Student Data e1_sum: 117.0 e1_sum Letter: B\n",
      "Student 10 Student Data e1_sum: 138.0 e1_sum Letter: A+\n",
      "Student 11 Student Data e1_sum: 110.0 e1_sum Letter: B-\n",
      "Student 12 Student Data e1_sum: 104.0 e1_sum Letter: C\n",
      "Student 13 Student Data e1_sum: 111.0 e1_sum Letter: B-\n",
      "Student 14 Student Data e1_sum: 103.0 e1_sum Letter: C\n",
      "Student 15 Student Data e1_sum: 134.0 e1_sum Letter: A\n"
     ]
    }
   ],
   "source": [
    "my_grade_book.print_grades([\"e1_sum\",\"e1_sum Letter\"])"
   ]
  },
  {
   "cell_type": "markdown",
   "metadata": {},
   "source": [
    "The following function generalizes curving you can use it to curve any grade:"
   ]
  },
  {
   "cell_type": "code",
   "execution_count": 23,
   "metadata": {},
   "outputs": [
    {
     "name": "stdout",
     "output_type": "stream",
     "text": [
      "l1_sum STD 0.0\n",
      "l1_sum Mean 10.0\n",
      "l1_sum Min 10.0\n",
      "l1_sum Max 10.0\n",
      "Student 0 Student Data l1_sum: 10.0 l1_sum Letter: F-\n",
      "Student 1 Student Data l1_sum: 10.0 l1_sum Letter: F-\n",
      "Student 2 Student Data l1_sum: 10.0 l1_sum Letter: F-\n",
      "Student 3 Student Data l1_sum: 10.0 l1_sum Letter: F-\n",
      "Student 4 Student Data l1_sum: 10.0 l1_sum Letter: F-\n",
      "Student 5 Student Data l1_sum: 10.0 l1_sum Letter: F-\n",
      "Student 6 Student Data l1_sum: 10.0 l1_sum Letter: F-\n",
      "Student 7 Student Data l1_sum: 10.0 l1_sum Letter: F-\n",
      "Student 8 Student Data l1_sum: 10.0 l1_sum Letter: F-\n",
      "Student 9 Student Data l1_sum: 10.0 l1_sum Letter: F-\n",
      "Student 10 Student Data l1_sum: 10.0 l1_sum Letter: F-\n",
      "Student 11 Student Data l1_sum: 10.0 l1_sum Letter: F-\n",
      "Student 12 Student Data l1_sum: 10.0 l1_sum Letter: F-\n",
      "Student 13 Student Data l1_sum: 10.0 l1_sum Letter: F-\n",
      "Student 14 Student Data l1_sum: 10.0 l1_sum Letter: F-\n",
      "Student 15 Student Data l1_sum: 10.0 l1_sum Letter: F-\n"
     ]
    }
   ],
   "source": [
    "def curve(a_grade_book,prefix,cut_off=None):\n",
    "    a_grade_book.apply_calculator(grade_summer(prefix),overwrite=True)\n",
    "    a_grade_book.apply_calculator(mean_std_calculator(prefix+\"sum\",cut_off))\n",
    "    a_grade_book.apply_calculator(curved_letter_grade(prefix+\"sum\",a_grade_book[prefix+\"sum Mean\"],a_grade_book[prefix+\"sum STD\"]),overwrite=True)\n",
    "    stats=a_grade_book.get_data(prefix)\n",
    "    for k,v in stats.iteritems():\n",
    "        print k,v\n",
    "    a_grade_book.print_grades([prefix+\"sum\",prefix+\"sum Letter\"])  \n",
    "    \n",
    "curve(my_grade_book, 'l1_')"
   ]
  },
  {
   "cell_type": "code",
   "execution_count": 16,
   "metadata": {},
   "outputs": [
    {
     "name": "stdout",
     "output_type": "stream",
     "text": [
      "l1_sum STD 0.0\n",
      "l1_sum Mean 10.0\n",
      "l1_sum Min 10.0\n",
      "l1_sum Max 10.0\n",
      "Student 0 Student Data l1_sum: 10.0 l1_sum Letter: F-\n",
      "Student 1 Student Data l1_sum: 10.0 l1_sum Letter: F-\n",
      "Student 2 Student Data l1_sum: 10.0 l1_sum Letter: F-\n",
      "Student 3 Student Data l1_sum: 10.0 l1_sum Letter: F-\n",
      "Student 4 Student Data l1_sum: 10.0 l1_sum Letter: F-\n",
      "Student 5 Student Data l1_sum: 10.0 l1_sum Letter: F-\n",
      "Student 6 Student Data l1_sum: 10.0 l1_sum Letter: F-\n",
      "Student 7 Student Data l1_sum: 10.0 l1_sum Letter: F-\n",
      "Student 8 Student Data l1_sum: 10.0 l1_sum Letter: F-\n",
      "Student 9 Student Data l1_sum: 10.0 l1_sum Letter: F-\n",
      "Student 10 Student Data l1_sum: 10.0 l1_sum Letter: F-\n",
      "Student 11 Student Data l1_sum: 10.0 l1_sum Letter: F-\n",
      "Student 12 Student Data l1_sum: 10.0 l1_sum Letter: F-\n",
      "Student 13 Student Data l1_sum: 10.0 l1_sum Letter: F-\n",
      "Student 14 Student Data l1_sum: 10.0 l1_sum Letter: F-\n",
      "Student 15 Student Data l1_sum: 10.0 l1_sum Letter: F-\n",
      "l2_sum Max 69.0\n",
      "l2_sum Min 0\n",
      "l2_sum Mean 51.09375\n",
      "l2_sum STD 21.0566340125\n",
      "Student 0 Student Data l2_sum: 58.0 l2_sum Letter: B\n",
      "Student 1 Student Data l2_sum: 0 l2_sum Letter: F\n",
      "Student 2 Student Data l2_sum: 0 l2_sum Letter: F\n",
      "Student 3 Student Data l2_sum: 62.0 l2_sum Letter: B\n",
      "Student 4 Student Data l2_sum: 49.5 l2_sum Letter: C+\n",
      "Student 5 Student Data l2_sum: 69.0 l2_sum Letter: B+\n",
      "Student 6 Student Data l2_sum: 54.5 l2_sum Letter: B-\n",
      "Student 7 Student Data l2_sum: 69.0 l2_sum Letter: B+\n",
      "Student 8 Student Data l2_sum: 39.5 l2_sum Letter: C\n",
      "Student 9 Student Data l2_sum: 60.0 l2_sum Letter: B\n",
      "Student 10 Student Data l2_sum: 47.0 l2_sum Letter: C+\n",
      "Student 11 Student Data l2_sum: 68.5 l2_sum Letter: B+\n",
      "Student 12 Student Data"
     ]
    },
    {
     "name": "stderr",
     "output_type": "stream",
     "text": [
      "gradebook.py:324: RuntimeWarning: invalid value encountered in double_scalars\n",
      "  scale_std=0.1*shift_to_zero/(self.__std/self.__max_grade)\n"
     ]
    },
    {
     "name": "stdout",
     "output_type": "stream",
     "text": [
      " l2_sum: 64.0 l2_sum Letter: B\n",
      "Student 13 Student Data l2_sum: 49.5 l2_sum Letter: C+\n",
      "Student 14 Student Data l2_sum: 68.0 l2_sum Letter: B+\n",
      "Student 15 Student Data l2_sum: 59.0 l2_sum Letter: B\n",
      "l3_sum Mean 73.3125\n",
      "l3_sum STD 38.3017929574\n",
      "l3_sum Max 126.0\n",
      "l3_sum Min 0\n",
      "Student 0 Student Data l3_sum: 9.0 l3_sum Letter: C\n",
      "Student 1 Student Data l3_sum: 0 l3_sum Letter: C-\n",
      "Student 2 Student Data l3_sum: 71.0 l3_sum Letter: C+\n",
      "Student 3 Student Data l3_sum: 102.0 l3_sum Letter: B+\n",
      "Student 4 Student Data l3_sum: 77.5 l3_sum Letter: B-\n",
      "Student 5 Student Data l3_sum: 89.0 l3_sum Letter: B\n",
      "Student 6 Student Data l3_sum: 64.5 l3_sum Letter: C+\n",
      "Student 7 Student Data l3_sum: 40.0 l3_sum Letter: C-\n",
      "Student 8 Student Data l3_sum: 40.0 l3_sum Letter: C-\n",
      "Student 9 Student Data l3_sum: 26.0 l3_sum Letter: C+\n",
      "Student 10 Student Data l3_sum: 126.0 l3_sum Letter: A\n",
      "Student 11 Student Data l3_sum: 97.5 l3_sum Letter: B\n",
      "Student 12 Student Data l3_sum: 115.0 l3_sum Letter: A-\n",
      "Student 13 Student Data l3_sum: 114.5 l3_sum Letter: A-\n",
      "Student 14 Student Data l3_sum: 95.0 l3_sum Letter: B\n",
      "Student 15 Student Data l3_sum: 106.0 l3_sum Letter: B+\n",
      "l4_sum Max 105.0\n",
      "l4_sum STD 30.4217746852\n",
      "l4_sum Mean 34.125\n",
      "l4_sum Min 0\n",
      "Student 0 Student Data l4_sum: 0 l4_sum Letter: C+\n",
      "Student 1 Student Data l4_sum: 0 l4_sum Letter: C+\n",
      "Student 2 Student Data l4_sum: 0 l4_sum Letter: C+\n",
      "Student 3 Student Data l4_sum: 75.0 l4_sum Letter: A\n",
      "Student 4 Student Data l4_sum: 26.0 l4_sum Letter: C+\n",
      "Student 5 Student Data l4_sum: 35.0 l4_sum Letter: B-\n",
      "Student 6 Student Data l4_sum: 30.0 l4_sum Letter: C+\n",
      "Student 7 Student Data l4_sum: 51.0 l4_sum Letter: B\n",
      "Student 8 Student Data l4_sum: 68.0 l4_sum Letter: A-\n",
      "Student 9 Student Data l4_sum: 27.0 l4_sum Letter: C+\n",
      "Student 10 Student Data l4_sum: 105.0 l4_sum Letter: A+\n",
      "Student 11 Student Data l4_sum: 51.0 l4_sum Letter: B\n",
      "Student 12 Student Data l4_sum: 0 l4_sum Letter: C+\n",
      "Student 13 Student Data l4_sum: 25.0 l4_sum Letter: C+\n",
      "Student 14 Student Data l4_sum: 0 l4_sum Letter: C+\n",
      "Student 15 Student Data l4_sum: 53.0 l4_sum Letter: B\n",
      "q1_sum Min 0\n",
      "q1_sum STD 4.46940554632\n",
      "q1_sum Mean 6.40625\n",
      "q1_sum Max 10.0\n",
      "Student 0 Student Data q1_sum: 9.5 q1_sum Letter: B\n",
      "Student 1 Student Data q1_sum: 0 q1_sum Letter: C\n",
      "Student 2 Student Data q1_sum: 5.0 q1_sum Letter: C\n",
      "Student 3 Student Data q1_sum: 10.0 q1_sum Letter: B+\n",
      "Student 4 Student Data q1_sum: 0 q1_sum Letter: C\n",
      "Student 5 Student Data q1_sum: 9.5 q1_sum Letter: B\n",
      "Student 6 Student Data q1_sum: 10.0 q1_sum Letter: B+\n",
      "Student 7 Student Data q1_sum: 10.0 q1_sum Letter: B+\n",
      "Student 8 Student Data q1_sum: 9.5 q1_sum Letter: B\n",
      "Student 9 Student Data q1_sum: 9.5 q1_sum Letter: B\n",
      "Student 10 Student Data q1_sum: 0 q1_sum Letter: C\n",
      "Student 11 Student Data q1_sum: 10.0 q1_sum Letter: B+\n",
      "Student 12 Student Data q1_sum: 10.0 q1_sum Letter: B+\n",
      "Student 13 Student Data q1_sum: 0 q1_sum Letter: C\n",
      "Student 14 Student Data q1_sum: 0 q1_sum Letter: C\n",
      "Student 15 Student Data q1_sum: 9.5 q1_sum Letter: B\n",
      "e1_sum Max 138.0\n",
      "e1_sum Min 0\n",
      "e1_sum Mean 82.6875\n",
      "e1_sum STD 42.9370451213\n",
      "Student 0 Student Data e1_sum: 35.0 e1_sum Letter: C+\n",
      "Student 1 Student Data e1_sum: 0 e1_sum Letter: C-\n",
      "Student 2 Student Data e1_sum: 20.0 e1_sum Letter: C\n",
      "Student 3 Student Data e1_sum: 115.0 e1_sum Letter: B+\n",
      "Student 4 Student Data e1_sum: 24.0 e1_sum Letter: C\n",
      "Student 5 Student Data e1_sum: 95.0 e1_sum Letter: B-\n",
      "Student 6 Student Data e1_sum: 37.0 e1_sum Letter: C+\n",
      "Student 7 Student Data e1_sum: 77.0 e1_sum Letter: C+\n",
      "Student 8 Student Data e1_sum: 103.0 e1_sum Letter: B\n",
      "Student 9 Student Data e1_sum: 117.0 e1_sum Letter: B+\n",
      "Student 10 Student Data e1_sum: 138.0 e1_sum Letter: A-\n",
      "Student 11 Student Data e1_sum: 110.0 e1_sum Letter: B\n",
      "Student 12 Student Data e1_sum: 104.0 e1_sum Letter: B\n",
      "Student 13 Student Data e1_sum: 111.0 e1_sum Letter: B\n",
      "Student 14 Student Data e1_sum: 103.0 e1_sum Letter: B\n",
      "Student 15 Student Data e1_sum: 134.0 e1_sum Letter: A-\n"
     ]
    }
   ],
   "source": [
    "def curve_list(a_grade_book, prefixes, cut_off=None):\n",
    "    for prefix in prefixes:\n",
    "        a_grade_book.apply_calculator(grade_summer(prefix),overwrite=True)\n",
    "        a_grade_book.apply_calculator(mean_std_calculator(prefix+\"sum\",cut_off))\n",
    "        a_grade_book.apply_calculator(curved_letter_grade(prefix+\"sum\",a_grade_book[prefix+\"sum Mean\"],a_grade_book[prefix+\"sum STD\"]),overwrite=True)\n",
    "        stats=a_grade_book.get_data(prefix)\n",
    "        for k,v in stats.iteritems():\n",
    "            print k,v\n",
    "        a_grade_book.print_grades([prefix+\"sum\",prefix+\"sum Letter\"])   \n",
    "        \n",
    "        \n",
    "curve_list(my_grade_book, ['l1_', 'l2_', 'l3_', 'l4_', 'q1_', 'e1_'])"
   ]
  },
  {
   "cell_type": "markdown",
   "metadata": {},
   "source": [
    "*Question 4:* Write a function that takes a list of prefixes and apply curve to each. Use it to curve every grade."
   ]
  },
  {
   "cell_type": "markdown",
   "metadata": {},
   "source": [
    "*Question 5:* Modify `curve` so that it deterines the `cut_off` automatically, using 50\\% of max grade as the cut off."
   ]
  },
  {
   "cell_type": "code",
   "execution_count": 17,
   "metadata": {},
   "outputs": [
    {
     "name": "stdout",
     "output_type": "stream",
     "text": [
      "e1_sum Max 138.0\n",
      "e1_sum Min 77.0\n",
      "e1_sum Mean 109.72727272727273\n",
      "e1_sum STD 16.1869246284\n",
      "Student 0 Student Data e1_sum: 35.0 e1_sum Letter: F-\n",
      "Student 1 Student Data e1_sum: 0 e1_sum Letter: F-\n",
      "Student 2 Student Data e1_sum: 20.0 e1_sum Letter: F-\n",
      "Student 3 Student Data e1_sum: 115.0 e1_sum Letter: B\n",
      "Student 4 Student Data e1_sum: 24.0 e1_sum Letter: F-\n",
      "Student 5 Student Data e1_sum: 95.0 e1_sum Letter: C-\n",
      "Student 6 Student Data e1_sum: 37.0 e1_sum Letter: F-\n",
      "Student 7 Student Data e1_sum: 77.0 e1_sum Letter: F+\n",
      "Student 8 Student Data e1_sum: 103.0 e1_sum Letter: C\n",
      "Student 9 Student Data e1_sum: 117.0 e1_sum Letter: B\n",
      "Student 10 Student Data e1_sum: 138.0 e1_sum Letter: A+\n",
      "Student 11 Student Data e1_sum: 110.0 e1_sum Letter: B-\n",
      "Student 12 Student Data e1_sum: 104.0 e1_sum Letter: C\n",
      "Student 13 Student Data e1_sum: 111.0 e1_sum Letter: B-\n",
      "Student 14 Student Data e1_sum: 103.0 e1_sum Letter: C\n",
      "Student 15 Student Data e1_sum: 134.0 e1_sum Letter: A\n"
     ]
    }
   ],
   "source": [
    "# Modify this function\n",
    "def curve(a_grade_book,prefix,cut_off=None):\n",
    "    grades = list()\n",
    "    for a_student in a_grade_book.get_students().values():\n",
    "        grades.append(a_student[prefix + \"sum\"].value())\n",
    "        \n",
    "    cut_off = max(grades)/2.\n",
    "    \n",
    "    a_grade_book.apply_calculator(grade_summer(prefix),overwrite=True)\n",
    "    a_grade_book.apply_calculator(mean_std_calculator(prefix+\"sum\",cut_off))\n",
    "    a_grade_book.apply_calculator(curved_letter_grade(prefix+\"sum\",a_grade_book[prefix+\"sum Mean\"],a_grade_book[prefix+\"sum STD\"]),overwrite=True)\n",
    "    stats=a_grade_book.get_data(prefix)\n",
    "    for k,v in stats.iteritems():\n",
    "        print k,v\n",
    "    a_grade_book.print_grades([prefix+\"sum\",prefix+\"sum Letter\"]) \n",
    "    \n",
    "curve(my_grade_book, 'e1_')"
   ]
  },
  {
   "cell_type": "markdown",
   "metadata": {},
   "source": [
    "*Question 5:* Write an algorithm that computes the number of A, B, C, D, and F grades for a prefix.  "
   ]
  },
  {
   "cell_type": "code",
   "execution_count": 22,
   "metadata": {},
   "outputs": [
    {
     "name": "stdout",
     "output_type": "stream",
     "text": [
      "{'A': 0, 'C': 0, 'B': 0, 'D': 0, 'F': 16}\n"
     ]
    }
   ],
   "source": [
    "def num_letters(a_grade_book, prefix):\n",
    "    letters = {'A': 0, 'B': 0, 'C': 0, 'D': 0, 'F': 0}\n",
    "    \n",
    "    for a_student in a_grade_book.get_students().values():\n",
    "        letters[a_student[prefix + \"sum Letter\"].value()[0]] = letters.get(a_student[prefix + \"sum Letter\"].value()[0], 0) + 1\n",
    "        \n",
    "    return letters\n",
    "    \n",
    "    \n",
    "letters = num_letters(my_grade_book, \"l1_\")\n",
    "print letters"
   ]
  },
  {
   "cell_type": "code",
   "execution_count": null,
   "metadata": {},
   "outputs": [],
   "source": []
  }
 ],
 "metadata": {
  "kernelspec": {
   "display_name": "Python 2",
   "language": "python",
   "name": "python2"
  },
  "language_info": {
   "codemirror_mode": {
    "name": "ipython",
    "version": 2
   },
   "file_extension": ".py",
   "mimetype": "text/x-python",
   "name": "python",
   "nbconvert_exporter": "python",
   "pygments_lexer": "ipython2",
   "version": "2.7.15"
  }
 },
 "nbformat": 4,
 "nbformat_minor": 2
}