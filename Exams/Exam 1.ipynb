{
 "cells": [
  {
   "cell_type": "markdown",
   "metadata": {
    "collapsed": true
   },
   "source": [
    "Matrix Representation"
   ]
  },
  {
   "cell_type": "code",
   "execution_count": 23,
   "metadata": {
    "collapsed": true
   },
   "outputs": [],
   "source": [
    "def constant(n=0,m=0,c=0):\n",
    "    a = []\n",
    "    for row in range(m):\n",
    "        a += [[c]*n]\n",
    "    return a\n",
    "\n",
    "def zeros(n=0,m=0):\n",
    "    out = constant(n,m,0)\n",
    "    return out\n",
    "    \n",
    "def ones(n=0,m=0):\n",
    "    out = constant(n,m,1)\n",
    "    return out\n",
    "\n",
    "def eye(n=3):\n",
    "    out = constant(n,n,0)\n",
    "    for x in range(n):\n",
    "        out[x][x]=1\n",
    "    return out"
   ]
  },
  {
   "cell_type": "code",
   "execution_count": 24,
   "metadata": {
    "collapsed": true
   },
   "outputs": [],
   "source": [
    "##testing\n",
    "#n=10\n",
    "#print constant(n,n,n)\n",
    "#print ones(n,n)\n",
    "#print zeros(n,n)\n",
    "#print eye(n)\n",
    "d2= eye(5)"
   ]
  },
  {
   "cell_type": "markdown",
   "metadata": {},
   "source": [
    "Slicing"
   ]
  },
  {
   "cell_type": "code",
   "execution_count": 25,
   "metadata": {
    "collapsed": true
   },
   "outputs": [],
   "source": [
    "def shape(M):\n",
    "    if len(M[0]) != len(M):\n",
    "        return False\n",
    "    else:\n",
    "        snek = (len(M[0]), len(M))\n",
    "        return snek"
   ]
  },
  {
   "cell_type": "code",
   "execution_count": 26,
   "metadata": {},
   "outputs": [
    {
     "name": "stdout",
     "output_type": "stream",
     "text": [
      "(5, 5)\n"
     ]
    }
   ],
   "source": [
    "#testing\n",
    "print shape(d2)"
   ]
  },
  {
   "cell_type": "code",
   "execution_count": 27,
   "metadata": {
    "collapsed": true
   },
   "outputs": [],
   "source": [
    "def row(M,n=0):\n",
    "    return M[n]\n",
    "def column(M,n=0):\n",
    "    out=list()\n",
    "    for x in range(len(M[0])):\n",
    "        out.append(M[x][n])\n",
    "    return out"
   ]
  },
  {
   "cell_type": "code",
   "execution_count": 28,
   "metadata": {},
   "outputs": [
    {
     "name": "stdout",
     "output_type": "stream",
     "text": [
      "[[1, 0, 0, 0, 0], [0, 1, 0, 0, 0], [0, 0, 1, 0, 0], [0, 0, 0, 1, 0], [0, 0, 0, 0, 1]]\n",
      "[0, 0, 1, 0, 0]\n",
      "[0, 0, 0, 0, 1]\n"
     ]
    }
   ],
   "source": [
    "#testing\n",
    "print d2\n",
    "print row(d2,2)\n",
    "print column(d2,4)"
   ]
  },
  {
   "cell_type": "code",
   "execution_count": 29,
   "metadata": {
    "collapsed": true
   },
   "outputs": [],
   "source": [
    "def block(M,n0=0,n1=0,m0=0,m1=0):\n",
    "    dx=n1-n0\n",
    "    dy=m1-m0\n",
    "    out = zeros(dx,dy)\n",
    "    for x in range(dx):\n",
    "        for y in range(dy):\n",
    "            out[x][y]=M[n0+x][m0+y]\n",
    "    return out"
   ]
  },
  {
   "cell_type": "code",
   "execution_count": 30,
   "metadata": {},
   "outputs": [
    {
     "name": "stdout",
     "output_type": "stream",
     "text": [
      "[[1, 0, 0], [0, 1, 0], [0, 0, 1]]\n"
     ]
    }
   ],
   "source": [
    "#testing\n",
    "#not complete yet\n",
    "print block(d2,1,4,1,4)"
   ]
  },
  {
   "cell_type": "markdown",
   "metadata": {},
   "source": [
    "Matrix Operators"
   ]
  },
  {
   "cell_type": "code",
   "execution_count": 73,
   "metadata": {},
   "outputs": [],
   "source": [
    "def transpose(M):\n",
    "    if not shape(M):\n",
    "        return \"Invalid matrix: asymmetrical matrix\"\n",
    "    out=list()\n",
    "    for x in range(len(M)):\n",
    "        out.append(column(M,x))\n",
    "    \n",
    "    return out\n",
    "\n",
    "def scalarmul(M,c=1):\n",
    "    out=M\n",
    "    for x in range(len(M[0])):\n",
    "        for y in range(len(M)):\n",
    "            out[x][y]=c*M[x][y]\n",
    "    return out\n",
    "\n",
    "def add(M,N):\n",
    "    if shape(M) != shape(N):\n",
    "        return \"Invalid matrices: Not same sizes or shape\"\n",
    "    out=M\n",
    "    for x in range(len(M[0])):\n",
    "        for y in range(len(M)):\n",
    "            out[x][y]=N[x][y]+M[x][y]\n",
    "    return out\n",
    "\n",
    "def sub(M,N):\n",
    "    if shape(M) != shape(N):\n",
    "        return \"Invalid matrices: Not same sizes or shape\"\n",
    "    out=M\n",
    "    temp=scalarmul(N,-1)\n",
    "    for x in range(len(M[0])):\n",
    "        for y in range(len(M)):\n",
    "            out[x][y]=M[x][y]+temp[x][y]\n",
    "    return out\n",
    "\n",
    "def elementmult(M,N):\n",
    "    if shape(M) != shape(N):\n",
    "        return \"Invalid matrices: Not same sizes or shape\"\n",
    "    out=M\n",
    "    for x in range(len(M[0])):\n",
    "        for y in range(len(M)):\n",
    "            out[x][y]=M[x][y]*N[x][y]\n",
    "    return out\n",
    "\n",
    "def alt(M,N):\n",
    "    out=[]\n",
    "    out+=M\n",
    "    for x in range(len(M)):\n",
    "            out[x]=M[x]*N[x]\n",
    "    return out\n",
    "\n",
    "def sumit(M):\n",
    "    s=0\n",
    "    for i in range(len(M)):\n",
    "        s+=M[i]\n",
    "    return s\n",
    "\n",
    "def matmult(M,N):\n",
    "    if shape(M) != shape(N):\n",
    "        return \"Invalid matrices: Not same sizes or shape\"\n",
    "    out = zeros(len(N[0]),len(M))\n",
    "    m=len(M[0])\n",
    "    n=len(N)\n",
    "    for row in range(m):\n",
    "        for col in range(n):\n",
    "            #print row,col\n",
    "            dx= M[row]\n",
    "            dy= column(N,col)\n",
    "            #print dx,dy\n",
    "            poop=sumit(alt(dx,dy))\n",
    "            out[row][col] = poop\n",
    "    return out"
   ]
  },
  {
   "cell_type": "code",
   "execution_count": 74,
   "metadata": {},
   "outputs": [
    {
     "name": "stdout",
     "output_type": "stream",
     "text": [
      "[[19, 28, 13], [19, 33, 16], [24, 33, 15]]\n"
     ]
    }
   ],
   "source": [
    "#testing\n",
    "d1 = [[1,3,3],[1,4,3],[1,3,4]]\n",
    "d2 = [[4,-2,-2,],[0,5,3],[5,5,2]]\n",
    "#print transpose(d1)\n",
    "#print transpose(d2)\n",
    "#print scalarmul(d1,10)\n",
    "#print add(d1,d2)\n",
    "#print sub(d1,d2)\n",
    "#print elementmult(d1,d2)\n",
    "print matmult(d1,d2)"
   ]
  },
  {
   "cell_type": "code",
   "execution_count": 160,
   "metadata": {
    "collapsed": true
   },
   "outputs": [],
   "source": [
    "def dot(A,B):\n",
    "    if len(A)!=len(B):\n",
    "        return \"Invalid Matrices: non similar vectors\"\n",
    "    mag=0\n",
    "    for i in range(len(A)):\n",
    "        mag+=A[i]*B[i]\n",
    "    return mag\n",
    "\n",
    "def outer(A,B):\n",
    "    out=[[0]*len(A)]*len(B)\n",
    "    print out\n",
    "    for x in range(len(A)):\n",
    "        for y in range(len(B)):\n",
    "            p=A[x]*B[y]\n",
    "            print p\n",
    "            out[x][y]=p\n",
    "    \n",
    "    return out"
   ]
  },
  {
   "cell_type": "code",
   "execution_count": 161,
   "metadata": {
    "collapsed": true
   },
   "outputs": [],
   "source": [
    "#testing\n",
    "v1=[0,1,2,3]\n",
    "v2=[1,2,3,4]\n",
    "#print outer(v1,v2)\n"
   ]
  },
  {
   "cell_type": "markdown",
   "metadata": {
    "collapsed": true
   },
   "source": [
    "Norms"
   ]
  },
  {
   "cell_type": "code",
   "execution_count": 166,
   "metadata": {
    "collapsed": true
   },
   "outputs": [],
   "source": [
    "def norm(M,p=1):\n",
    "    if shape(A)==False:\n",
    "        return \"Invalid matrix: asymmetrical matrix\"\n",
    "    thesum=0.0\n",
    "    out=0.0\n",
    "    for i in range(len(M[0])):\n",
    "        for j in range(len(M)):\n",
    "            thesum+=M[i][j]**p\n",
    "    out=(thesum)**(1.0/p)\n",
    "    return out"
   ]
  },
  {
   "cell_type": "code",
   "execution_count": 171,
   "metadata": {},
   "outputs": [
    {
     "name": "stdout",
     "output_type": "stream",
     "text": [
      "[[1, 0, 0], [0, 1, 0], [0, 0, 1]]\n",
      "0.0\n"
     ]
    }
   ],
   "source": [
    "#testing\n",
    "A=[[2,-1,5],[0,2,1],[3,1,1]]\n",
    "print eye(3)\n",
    "print norm([[],[],[]],2)"
   ]
  },
  {
   "cell_type": "markdown",
   "metadata": {},
   "source": [
    "Inverse"
   ]
  },
  {
   "cell_type": "code",
   "execution_count": 164,
   "metadata": {
    "collapsed": true
   },
   "outputs": [],
   "source": [
    "def Minor(m,i,j):\n",
    "    return [row[:j] + row[j+1:] for row in (m[:i]+m[i+1:])]\n",
    "\n",
    "def dter(m):\n",
    "    #base case for 2x2 matrix\n",
    "    if len(m) == 2:\n",
    "        return m[0][0]*m[1][1]-m[0][1]*m[1][0]\n",
    "\n",
    "    determinant = 0\n",
    "    for c in range(len(m)):\n",
    "        determinant += ((-1)**c)*m[0][c]*dter(Minor(m,0,c))\n",
    "    return determinant\n",
    "\n",
    "def inv(M):\n",
    "    determinant = dter(M)\n",
    "    #special case for 2x2 matrix:\n",
    "    if len(M) == 2:\n",
    "        return [[M[1][1]/determinant, -1*M[0][1]/determinant],\n",
    "                [-1*M[1][0]/determinant, M[0][0]/determinant]]\n",
    "\n",
    "    #find matrix of cofactors\n",
    "    cofactors = []\n",
    "    for r in range(len(M)):\n",
    "        cofactorRow = []\n",
    "        for c in range(len(M)):\n",
    "            minor = Minor(M,r,c)\n",
    "            cofactorRow.append(((-1)**(r+c)) * dter(minor))\n",
    "        cofactors.append(cofactorRow)\n",
    "    cofactors = transpose(cofactors)\n",
    "    for r in range(len(cofactors)):\n",
    "        for c in range(len(cofactors)):\n",
    "            cofactors[r][c] = cofactors[r][c]/determinant\n",
    "    return cofactors"
   ]
  },
  {
   "cell_type": "code",
   "execution_count": 165,
   "metadata": {},
   "outputs": [
    {
     "name": "stdout",
     "output_type": "stream",
     "text": [
      "[[1, 2, 3], [4, 5, 6], [7, 2, 9]]\n",
      "[[-1, 0, 0], [-1, 0, -1], [0, -1, 0]]\n"
     ]
    }
   ],
   "source": [
    "#testing\n",
    "d4 = [[1,2,3],[4,5,6],[7,2,9]]\n",
    "print d4\n",
    "print inv(d4)"
   ]
  },
  {
   "cell_type": "code",
   "execution_count": null,
   "metadata": {
    "collapsed": true
   },
   "outputs": [],
   "source": []
  }
 ],
 "metadata": {
  "kernelspec": {
   "display_name": "Python 2",
   "language": "python",
   "name": "python2"
  },
  "language_info": {
   "codemirror_mode": {
    "name": "ipython",
    "version": 2
   },
   "file_extension": ".py",
   "mimetype": "text/x-python",
   "name": "python",
   "nbconvert_exporter": "python",
   "pygments_lexer": "ipython2",
   "version": "2.7.13"
  }
 },
 "nbformat": 4,
 "nbformat_minor": 2
}
